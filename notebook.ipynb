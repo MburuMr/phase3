{
 "cells": [
  {
   "cell_type": "markdown",
   "id": "2154f34a",
   "metadata": {},
   "source": [
    "# Prediction of Customer Churn for SyriaTel\n",
    "\n",
    "Customer retention is essential for telecommunications companies, as acquiring new customers is often significantly more expensive than retaining existing ones. When customers \"churn\"—that is, when they cancel their service and switch to competitors—businesses experience immediate revenue loss and incur higher marketing costs to attract replacements.\n",
    "\n",
    "This project aims to develop a predictive analytics solution for **SyriaTel**, a telecommunications provider, to identify customers who are at a high risk of churning before they decide to leave. By analyzing patterns in customer behavior, usage data, and service interactions, we can create early warning systems that facilitate targeted retention campaigns, personalized offers, and proactive customer service interventions.\n",
    "\n",
    "The potential business impact is considerable: preventing even a small percentage of customer churn can result in millions of dollars in retained revenue and lower acquisition costs, while also enhancing overall customer satisfaction and loyalty.\n",
    "\n",
    "## **Problem Understanding**\n",
    "\n",
    "**Business Challenge:** SyriaTel is experiencing revenue loss due to customers discontinuing their telecommunications services. The company must identify at-risk customers prior to their churn in order to implement targeted retention strategies and safeguard its revenue.\n",
    "\n",
    "**Technical Approach:** Develop a binary classification model to predict the probability of customer churn by analyzing historical usage patterns, billing data, and service interactions. This model will enable SyriaTel to proactively engage with customers before they decide to leave, rather than attempting to win them back after they have already departed."
   ]
  },
  {
   "cell_type": "code",
   "execution_count": 59,
   "id": "91ab3f37",
   "metadata": {},
   "outputs": [],
   "source": [
    "# Import necessary libraries\n",
    "import pandas as pd\n",
    "import numpy as np\n",
    "import matplotlib.pyplot as plt\n",
    "import seaborn as sns\n",
    "import warnings\n",
    "warnings.filterwarnings('ignore')\n",
    "\n",
    "# Machine Learning libraries\n",
    "from sklearn.model_selection import train_test_split, cross_val_score, GridSearchCV, StratifiedKFold\n",
    "from sklearn.preprocessing import StandardScaler, LabelEncoder\n",
    "from sklearn.ensemble import RandomForestClassifier, GradientBoostingClassifier\n",
    "from sklearn.linear_model import LogisticRegression\n",
    "from sklearn.tree import DecisionTreeClassifier\n",
    "from sklearn.metrics import (classification_report, confusion_matrix, \n",
    "                             roc_auc_score, roc_curve, precision_recall_curve,\n",
    "                             accuracy_score, precision_score, recall_score, f1_score)\n",
    "from sklearn.feature_selection import SelectKBest, f_classif\n",
    "\n",
    "# Set plotting style\n",
    "plt.style.use('default')\n",
    "sns.set_palette(\"husl\")"
   ]
  },
  {
   "cell_type": "markdown",
   "id": "c3c0a223",
   "metadata": {},
   "source": [
    "All essential Python libraries for data manipulation, visualization, and machine learning have been imported at the beginning of the project. Their specific applications will become evident as we progress through each stage."
   ]
  },
  {
   "cell_type": "markdown",
   "id": "b96c9b44",
   "metadata": {},
   "source": [
    "## **Data Loading and Preliminary Exploration**\n",
    "\n",
    "Key steps in this section:\n",
    "- Load the data from a CSV file\n",
    "- Inspect the dataset shape and column types\n",
    "- Preview the first few rows\n",
    "- Check for any missing values\n",
    "- Generate basic descriptive statistics"
   ]
  },
  {
   "cell_type": "code",
   "execution_count": 60,
   "id": "6d9b35b7",
   "metadata": {},
   "outputs": [],
   "source": [
    "# Load the dataset\n",
    "df = pd.read_csv(\"telecom data.csv\")"
   ]
  },
  {
   "cell_type": "code",
   "execution_count": 61,
   "id": "acfa0ac0",
   "metadata": {},
   "outputs": [
    {
     "data": {
      "text/plain": [
       "(3333, 21)"
      ]
     },
     "execution_count": 61,
     "metadata": {},
     "output_type": "execute_result"
    }
   ],
   "source": [
    "df.shape"
   ]
  },
  {
   "cell_type": "markdown",
   "id": "5971621e",
   "metadata": {},
   "source": [
    "The dataset comprises **3,333 rows** and **21 columns**, indicating a medium-sized dataset that is well-suited for in-depth analysis and modeling."
   ]
  },
  {
   "cell_type": "code",
   "execution_count": 62,
   "id": "07c48363",
   "metadata": {},
   "outputs": [
    {
     "data": {
      "application/vnd.microsoft.datawrangler.viewer.v0+json": {
       "columns": [
        {
         "name": "index",
         "rawType": "object",
         "type": "string"
        },
        {
         "name": "0",
         "rawType": "object",
         "type": "unknown"
        }
       ],
       "ref": "324d2a6c-24ec-4ebc-8f87-4755060f7f92",
       "rows": [
        [
         "state",
         "object"
        ],
        [
         "account length",
         "int64"
        ],
        [
         "area code",
         "int64"
        ],
        [
         "phone number",
         "object"
        ],
        [
         "international plan",
         "object"
        ],
        [
         "voice mail plan",
         "object"
        ],
        [
         "number vmail messages",
         "int64"
        ],
        [
         "total day minutes",
         "float64"
        ],
        [
         "total day calls",
         "int64"
        ],
        [
         "total day charge",
         "float64"
        ],
        [
         "total eve minutes",
         "float64"
        ],
        [
         "total eve calls",
         "int64"
        ],
        [
         "total eve charge",
         "float64"
        ],
        [
         "total night minutes",
         "float64"
        ],
        [
         "total night calls",
         "int64"
        ],
        [
         "total night charge",
         "float64"
        ],
        [
         "total intl minutes",
         "float64"
        ],
        [
         "total intl calls",
         "int64"
        ],
        [
         "total intl charge",
         "float64"
        ],
        [
         "customer service calls",
         "int64"
        ],
        [
         "churn",
         "bool"
        ]
       ],
       "shape": {
        "columns": 1,
        "rows": 21
       }
      },
      "text/plain": [
       "state                      object\n",
       "account length              int64\n",
       "area code                   int64\n",
       "phone number               object\n",
       "international plan         object\n",
       "voice mail plan            object\n",
       "number vmail messages       int64\n",
       "total day minutes         float64\n",
       "total day calls             int64\n",
       "total day charge          float64\n",
       "total eve minutes         float64\n",
       "total eve calls             int64\n",
       "total eve charge          float64\n",
       "total night minutes       float64\n",
       "total night calls           int64\n",
       "total night charge        float64\n",
       "total intl minutes        float64\n",
       "total intl calls            int64\n",
       "total intl charge         float64\n",
       "customer service calls      int64\n",
       "churn                        bool\n",
       "dtype: object"
      ]
     },
     "execution_count": 62,
     "metadata": {},
     "output_type": "execute_result"
    }
   ],
   "source": [
    "df.dtypes"
   ]
  },
  {
   "cell_type": "markdown",
   "id": "30a3461b",
   "metadata": {},
   "source": [
    "We observe the following:\n",
    "\n",
    "- The majority of features are numerical, with a few categorical variables such as `state`, `international plan`, and `voice mail plan`.\n",
    "- The target variable is `churn`, which is stored as a boolean.\n",
    "- The `phone number` and `state` features may not contribute significantly to the prediction and could be considered for removal later in the analysis."
   ]
  },
  {
   "cell_type": "code",
   "execution_count": 63,
   "id": "d8c64faf",
   "metadata": {},
   "outputs": [
    {
     "data": {
      "application/vnd.microsoft.datawrangler.viewer.v0+json": {
       "columns": [
        {
         "name": "index",
         "rawType": "int64",
         "type": "integer"
        },
        {
         "name": "state",
         "rawType": "object",
         "type": "string"
        },
        {
         "name": "account length",
         "rawType": "int64",
         "type": "integer"
        },
        {
         "name": "area code",
         "rawType": "int64",
         "type": "integer"
        },
        {
         "name": "phone number",
         "rawType": "object",
         "type": "string"
        },
        {
         "name": "international plan",
         "rawType": "object",
         "type": "string"
        },
        {
         "name": "voice mail plan",
         "rawType": "object",
         "type": "string"
        },
        {
         "name": "number vmail messages",
         "rawType": "int64",
         "type": "integer"
        },
        {
         "name": "total day minutes",
         "rawType": "float64",
         "type": "float"
        },
        {
         "name": "total day calls",
         "rawType": "int64",
         "type": "integer"
        },
        {
         "name": "total day charge",
         "rawType": "float64",
         "type": "float"
        },
        {
         "name": "total eve minutes",
         "rawType": "float64",
         "type": "float"
        },
        {
         "name": "total eve calls",
         "rawType": "int64",
         "type": "integer"
        },
        {
         "name": "total eve charge",
         "rawType": "float64",
         "type": "float"
        },
        {
         "name": "total night minutes",
         "rawType": "float64",
         "type": "float"
        },
        {
         "name": "total night calls",
         "rawType": "int64",
         "type": "integer"
        },
        {
         "name": "total night charge",
         "rawType": "float64",
         "type": "float"
        },
        {
         "name": "total intl minutes",
         "rawType": "float64",
         "type": "float"
        },
        {
         "name": "total intl calls",
         "rawType": "int64",
         "type": "integer"
        },
        {
         "name": "total intl charge",
         "rawType": "float64",
         "type": "float"
        },
        {
         "name": "customer service calls",
         "rawType": "int64",
         "type": "integer"
        },
        {
         "name": "churn",
         "rawType": "bool",
         "type": "boolean"
        }
       ],
       "ref": "e7f3d3e5-7a15-44a8-b5c5-95c94d746f64",
       "rows": [
        [
         "0",
         "KS",
         "128",
         "415",
         "382-4657",
         "no",
         "yes",
         "25",
         "265.1",
         "110",
         "45.07",
         "197.4",
         "99",
         "16.78",
         "244.7",
         "91",
         "11.01",
         "10.0",
         "3",
         "2.7",
         "1",
         "False"
        ],
        [
         "1",
         "OH",
         "107",
         "415",
         "371-7191",
         "no",
         "yes",
         "26",
         "161.6",
         "123",
         "27.47",
         "195.5",
         "103",
         "16.62",
         "254.4",
         "103",
         "11.45",
         "13.7",
         "3",
         "3.7",
         "1",
         "False"
        ],
        [
         "2",
         "NJ",
         "137",
         "415",
         "358-1921",
         "no",
         "no",
         "0",
         "243.4",
         "114",
         "41.38",
         "121.2",
         "110",
         "10.3",
         "162.6",
         "104",
         "7.32",
         "12.2",
         "5",
         "3.29",
         "0",
         "False"
        ],
        [
         "3",
         "OH",
         "84",
         "408",
         "375-9999",
         "yes",
         "no",
         "0",
         "299.4",
         "71",
         "50.9",
         "61.9",
         "88",
         "5.26",
         "196.9",
         "89",
         "8.86",
         "6.6",
         "7",
         "1.78",
         "2",
         "False"
        ],
        [
         "4",
         "OK",
         "75",
         "415",
         "330-6626",
         "yes",
         "no",
         "0",
         "166.7",
         "113",
         "28.34",
         "148.3",
         "122",
         "12.61",
         "186.9",
         "121",
         "8.41",
         "10.1",
         "3",
         "2.73",
         "3",
         "False"
        ]
       ],
       "shape": {
        "columns": 21,
        "rows": 5
       }
      },
      "text/html": [
       "<div>\n",
       "<style scoped>\n",
       "    .dataframe tbody tr th:only-of-type {\n",
       "        vertical-align: middle;\n",
       "    }\n",
       "\n",
       "    .dataframe tbody tr th {\n",
       "        vertical-align: top;\n",
       "    }\n",
       "\n",
       "    .dataframe thead th {\n",
       "        text-align: right;\n",
       "    }\n",
       "</style>\n",
       "<table border=\"1\" class=\"dataframe\">\n",
       "  <thead>\n",
       "    <tr style=\"text-align: right;\">\n",
       "      <th></th>\n",
       "      <th>state</th>\n",
       "      <th>account length</th>\n",
       "      <th>area code</th>\n",
       "      <th>phone number</th>\n",
       "      <th>international plan</th>\n",
       "      <th>voice mail plan</th>\n",
       "      <th>number vmail messages</th>\n",
       "      <th>total day minutes</th>\n",
       "      <th>total day calls</th>\n",
       "      <th>total day charge</th>\n",
       "      <th>...</th>\n",
       "      <th>total eve calls</th>\n",
       "      <th>total eve charge</th>\n",
       "      <th>total night minutes</th>\n",
       "      <th>total night calls</th>\n",
       "      <th>total night charge</th>\n",
       "      <th>total intl minutes</th>\n",
       "      <th>total intl calls</th>\n",
       "      <th>total intl charge</th>\n",
       "      <th>customer service calls</th>\n",
       "      <th>churn</th>\n",
       "    </tr>\n",
       "  </thead>\n",
       "  <tbody>\n",
       "    <tr>\n",
       "      <th>0</th>\n",
       "      <td>KS</td>\n",
       "      <td>128</td>\n",
       "      <td>415</td>\n",
       "      <td>382-4657</td>\n",
       "      <td>no</td>\n",
       "      <td>yes</td>\n",
       "      <td>25</td>\n",
       "      <td>265.1</td>\n",
       "      <td>110</td>\n",
       "      <td>45.07</td>\n",
       "      <td>...</td>\n",
       "      <td>99</td>\n",
       "      <td>16.78</td>\n",
       "      <td>244.7</td>\n",
       "      <td>91</td>\n",
       "      <td>11.01</td>\n",
       "      <td>10.0</td>\n",
       "      <td>3</td>\n",
       "      <td>2.70</td>\n",
       "      <td>1</td>\n",
       "      <td>False</td>\n",
       "    </tr>\n",
       "    <tr>\n",
       "      <th>1</th>\n",
       "      <td>OH</td>\n",
       "      <td>107</td>\n",
       "      <td>415</td>\n",
       "      <td>371-7191</td>\n",
       "      <td>no</td>\n",
       "      <td>yes</td>\n",
       "      <td>26</td>\n",
       "      <td>161.6</td>\n",
       "      <td>123</td>\n",
       "      <td>27.47</td>\n",
       "      <td>...</td>\n",
       "      <td>103</td>\n",
       "      <td>16.62</td>\n",
       "      <td>254.4</td>\n",
       "      <td>103</td>\n",
       "      <td>11.45</td>\n",
       "      <td>13.7</td>\n",
       "      <td>3</td>\n",
       "      <td>3.70</td>\n",
       "      <td>1</td>\n",
       "      <td>False</td>\n",
       "    </tr>\n",
       "    <tr>\n",
       "      <th>2</th>\n",
       "      <td>NJ</td>\n",
       "      <td>137</td>\n",
       "      <td>415</td>\n",
       "      <td>358-1921</td>\n",
       "      <td>no</td>\n",
       "      <td>no</td>\n",
       "      <td>0</td>\n",
       "      <td>243.4</td>\n",
       "      <td>114</td>\n",
       "      <td>41.38</td>\n",
       "      <td>...</td>\n",
       "      <td>110</td>\n",
       "      <td>10.30</td>\n",
       "      <td>162.6</td>\n",
       "      <td>104</td>\n",
       "      <td>7.32</td>\n",
       "      <td>12.2</td>\n",
       "      <td>5</td>\n",
       "      <td>3.29</td>\n",
       "      <td>0</td>\n",
       "      <td>False</td>\n",
       "    </tr>\n",
       "    <tr>\n",
       "      <th>3</th>\n",
       "      <td>OH</td>\n",
       "      <td>84</td>\n",
       "      <td>408</td>\n",
       "      <td>375-9999</td>\n",
       "      <td>yes</td>\n",
       "      <td>no</td>\n",
       "      <td>0</td>\n",
       "      <td>299.4</td>\n",
       "      <td>71</td>\n",
       "      <td>50.90</td>\n",
       "      <td>...</td>\n",
       "      <td>88</td>\n",
       "      <td>5.26</td>\n",
       "      <td>196.9</td>\n",
       "      <td>89</td>\n",
       "      <td>8.86</td>\n",
       "      <td>6.6</td>\n",
       "      <td>7</td>\n",
       "      <td>1.78</td>\n",
       "      <td>2</td>\n",
       "      <td>False</td>\n",
       "    </tr>\n",
       "    <tr>\n",
       "      <th>4</th>\n",
       "      <td>OK</td>\n",
       "      <td>75</td>\n",
       "      <td>415</td>\n",
       "      <td>330-6626</td>\n",
       "      <td>yes</td>\n",
       "      <td>no</td>\n",
       "      <td>0</td>\n",
       "      <td>166.7</td>\n",
       "      <td>113</td>\n",
       "      <td>28.34</td>\n",
       "      <td>...</td>\n",
       "      <td>122</td>\n",
       "      <td>12.61</td>\n",
       "      <td>186.9</td>\n",
       "      <td>121</td>\n",
       "      <td>8.41</td>\n",
       "      <td>10.1</td>\n",
       "      <td>3</td>\n",
       "      <td>2.73</td>\n",
       "      <td>3</td>\n",
       "      <td>False</td>\n",
       "    </tr>\n",
       "  </tbody>\n",
       "</table>\n",
       "<p>5 rows × 21 columns</p>\n",
       "</div>"
      ],
      "text/plain": [
       "  state  account length  area code phone number international plan  \\\n",
       "0    KS             128        415     382-4657                 no   \n",
       "1    OH             107        415     371-7191                 no   \n",
       "2    NJ             137        415     358-1921                 no   \n",
       "3    OH              84        408     375-9999                yes   \n",
       "4    OK              75        415     330-6626                yes   \n",
       "\n",
       "  voice mail plan  number vmail messages  total day minutes  total day calls  \\\n",
       "0             yes                     25              265.1              110   \n",
       "1             yes                     26              161.6              123   \n",
       "2              no                      0              243.4              114   \n",
       "3              no                      0              299.4               71   \n",
       "4              no                      0              166.7              113   \n",
       "\n",
       "   total day charge  ...  total eve calls  total eve charge  \\\n",
       "0             45.07  ...               99             16.78   \n",
       "1             27.47  ...              103             16.62   \n",
       "2             41.38  ...              110             10.30   \n",
       "3             50.90  ...               88              5.26   \n",
       "4             28.34  ...              122             12.61   \n",
       "\n",
       "   total night minutes  total night calls  total night charge  \\\n",
       "0                244.7                 91               11.01   \n",
       "1                254.4                103               11.45   \n",
       "2                162.6                104                7.32   \n",
       "3                196.9                 89                8.86   \n",
       "4                186.9                121                8.41   \n",
       "\n",
       "   total intl minutes  total intl calls  total intl charge  \\\n",
       "0                10.0                 3               2.70   \n",
       "1                13.7                 3               3.70   \n",
       "2                12.2                 5               3.29   \n",
       "3                 6.6                 7               1.78   \n",
       "4                10.1                 3               2.73   \n",
       "\n",
       "   customer service calls  churn  \n",
       "0                       1  False  \n",
       "1                       1  False  \n",
       "2                       0  False  \n",
       "3                       2  False  \n",
       "4                       3  False  \n",
       "\n",
       "[5 rows x 21 columns]"
      ]
     },
     "execution_count": 63,
     "metadata": {},
     "output_type": "execute_result"
    }
   ],
   "source": [
    "df.head()"
   ]
  },
  {
   "cell_type": "markdown",
   "id": "0ae815f3",
   "metadata": {},
   "source": [
    "Examining the first five rows of the dataset provides insight into its structure. We can identify columns such as `total day minutes`, `total intl charge`, and `customer service calls`, which may serve as important predictors of churn."
   ]
  },
  {
   "cell_type": "code",
   "execution_count": 64,
   "id": "aa5139dd",
   "metadata": {},
   "outputs": [
    {
     "data": {
      "application/vnd.microsoft.datawrangler.viewer.v0+json": {
       "columns": [
        {
         "name": "index",
         "rawType": "object",
         "type": "string"
        },
        {
         "name": "0",
         "rawType": "int64",
         "type": "integer"
        }
       ],
       "ref": "fad27d5f-a62c-4ce8-a868-1c677f2544fd",
       "rows": [
        [
         "state",
         "0"
        ],
        [
         "account length",
         "0"
        ],
        [
         "area code",
         "0"
        ],
        [
         "phone number",
         "0"
        ],
        [
         "international plan",
         "0"
        ],
        [
         "voice mail plan",
         "0"
        ],
        [
         "number vmail messages",
         "0"
        ],
        [
         "total day minutes",
         "0"
        ],
        [
         "total day calls",
         "0"
        ],
        [
         "total day charge",
         "0"
        ],
        [
         "total eve minutes",
         "0"
        ],
        [
         "total eve calls",
         "0"
        ],
        [
         "total eve charge",
         "0"
        ],
        [
         "total night minutes",
         "0"
        ],
        [
         "total night calls",
         "0"
        ],
        [
         "total night charge",
         "0"
        ],
        [
         "total intl minutes",
         "0"
        ],
        [
         "total intl calls",
         "0"
        ],
        [
         "total intl charge",
         "0"
        ],
        [
         "customer service calls",
         "0"
        ],
        [
         "churn",
         "0"
        ]
       ],
       "shape": {
        "columns": 1,
        "rows": 21
       }
      },
      "text/plain": [
       "state                     0\n",
       "account length            0\n",
       "area code                 0\n",
       "phone number              0\n",
       "international plan        0\n",
       "voice mail plan           0\n",
       "number vmail messages     0\n",
       "total day minutes         0\n",
       "total day calls           0\n",
       "total day charge          0\n",
       "total eve minutes         0\n",
       "total eve calls           0\n",
       "total eve charge          0\n",
       "total night minutes       0\n",
       "total night calls         0\n",
       "total night charge        0\n",
       "total intl minutes        0\n",
       "total intl calls          0\n",
       "total intl charge         0\n",
       "customer service calls    0\n",
       "churn                     0\n",
       "dtype: int64"
      ]
     },
     "execution_count": 64,
     "metadata": {},
     "output_type": "execute_result"
    }
   ],
   "source": [
    "df.isnull().sum() "
   ]
  },
  {
   "cell_type": "markdown",
   "id": "6748cffb",
   "metadata": {},
   "source": [
    "There are **no missing values** in the dataset, which eliminates the need for imputation or removal of records at this stage. This allows us to proceed directly to the analysis and modeling phases without additional data cleaning efforts."
   ]
  },
  {
   "cell_type": "code",
   "execution_count": 65,
   "id": "83ed9451",
   "metadata": {},
   "outputs": [
    {
     "data": {
      "application/vnd.microsoft.datawrangler.viewer.v0+json": {
       "columns": [
        {
         "name": "index",
         "rawType": "object",
         "type": "string"
        },
        {
         "name": "account length",
         "rawType": "float64",
         "type": "float"
        },
        {
         "name": "area code",
         "rawType": "float64",
         "type": "float"
        },
        {
         "name": "number vmail messages",
         "rawType": "float64",
         "type": "float"
        },
        {
         "name": "total day minutes",
         "rawType": "float64",
         "type": "float"
        },
        {
         "name": "total day calls",
         "rawType": "float64",
         "type": "float"
        },
        {
         "name": "total day charge",
         "rawType": "float64",
         "type": "float"
        },
        {
         "name": "total eve minutes",
         "rawType": "float64",
         "type": "float"
        },
        {
         "name": "total eve calls",
         "rawType": "float64",
         "type": "float"
        },
        {
         "name": "total eve charge",
         "rawType": "float64",
         "type": "float"
        },
        {
         "name": "total night minutes",
         "rawType": "float64",
         "type": "float"
        },
        {
         "name": "total night calls",
         "rawType": "float64",
         "type": "float"
        },
        {
         "name": "total night charge",
         "rawType": "float64",
         "type": "float"
        },
        {
         "name": "total intl minutes",
         "rawType": "float64",
         "type": "float"
        },
        {
         "name": "total intl calls",
         "rawType": "float64",
         "type": "float"
        },
        {
         "name": "total intl charge",
         "rawType": "float64",
         "type": "float"
        },
        {
         "name": "customer service calls",
         "rawType": "float64",
         "type": "float"
        }
       ],
       "ref": "18c633af-283f-46ad-b1db-4fda35958247",
       "rows": [
        [
         "count",
         "3333.0",
         "3333.0",
         "3333.0",
         "3333.0",
         "3333.0",
         "3333.0",
         "3333.0",
         "3333.0",
         "3333.0",
         "3333.0",
         "3333.0",
         "3333.0",
         "3333.0",
         "3333.0",
         "3333.0",
         "3333.0"
        ],
        [
         "mean",
         "101.06480648064806",
         "437.18241824182417",
         "8.099009900990099",
         "179.77509750975094",
         "100.43564356435644",
         "30.562307230723075",
         "200.98034803480348",
         "100.11431143114311",
         "17.083540354035403",
         "200.87203720372037",
         "100.10771077107711",
         "9.03932493249325",
         "10.237293729372938",
         "4.4794479447944795",
         "2.7645814581458144",
         "1.5628562856285628"
        ],
        [
         "std",
         "39.822105928595604",
         "42.371290485606615",
         "13.688365372038598",
         "54.46738920237137",
         "20.069084207300897",
         "9.2594345539305",
         "50.713844425812",
         "19.922625293943103",
         "4.310667643110341",
         "50.57384701365836",
         "19.568609346058558",
         "2.275872837660029",
         "2.791839548408416",
         "2.461214270546094",
         "0.753772612663046",
         "1.3154910448664767"
        ],
        [
         "min",
         "1.0",
         "408.0",
         "0.0",
         "0.0",
         "0.0",
         "0.0",
         "0.0",
         "0.0",
         "0.0",
         "23.2",
         "33.0",
         "1.04",
         "0.0",
         "0.0",
         "0.0",
         "0.0"
        ],
        [
         "25%",
         "74.0",
         "408.0",
         "0.0",
         "143.7",
         "87.0",
         "24.43",
         "166.6",
         "87.0",
         "14.16",
         "167.0",
         "87.0",
         "7.52",
         "8.5",
         "3.0",
         "2.3",
         "1.0"
        ],
        [
         "50%",
         "101.0",
         "415.0",
         "0.0",
         "179.4",
         "101.0",
         "30.5",
         "201.4",
         "100.0",
         "17.12",
         "201.2",
         "100.0",
         "9.05",
         "10.3",
         "4.0",
         "2.78",
         "1.0"
        ],
        [
         "75%",
         "127.0",
         "510.0",
         "20.0",
         "216.4",
         "114.0",
         "36.79",
         "235.3",
         "114.0",
         "20.0",
         "235.3",
         "113.0",
         "10.59",
         "12.1",
         "6.0",
         "3.27",
         "2.0"
        ],
        [
         "max",
         "243.0",
         "510.0",
         "51.0",
         "350.8",
         "165.0",
         "59.64",
         "363.7",
         "170.0",
         "30.91",
         "395.0",
         "175.0",
         "17.77",
         "20.0",
         "20.0",
         "5.4",
         "9.0"
        ]
       ],
       "shape": {
        "columns": 16,
        "rows": 8
       }
      },
      "text/html": [
       "<div>\n",
       "<style scoped>\n",
       "    .dataframe tbody tr th:only-of-type {\n",
       "        vertical-align: middle;\n",
       "    }\n",
       "\n",
       "    .dataframe tbody tr th {\n",
       "        vertical-align: top;\n",
       "    }\n",
       "\n",
       "    .dataframe thead th {\n",
       "        text-align: right;\n",
       "    }\n",
       "</style>\n",
       "<table border=\"1\" class=\"dataframe\">\n",
       "  <thead>\n",
       "    <tr style=\"text-align: right;\">\n",
       "      <th></th>\n",
       "      <th>account length</th>\n",
       "      <th>area code</th>\n",
       "      <th>number vmail messages</th>\n",
       "      <th>total day minutes</th>\n",
       "      <th>total day calls</th>\n",
       "      <th>total day charge</th>\n",
       "      <th>total eve minutes</th>\n",
       "      <th>total eve calls</th>\n",
       "      <th>total eve charge</th>\n",
       "      <th>total night minutes</th>\n",
       "      <th>total night calls</th>\n",
       "      <th>total night charge</th>\n",
       "      <th>total intl minutes</th>\n",
       "      <th>total intl calls</th>\n",
       "      <th>total intl charge</th>\n",
       "      <th>customer service calls</th>\n",
       "    </tr>\n",
       "  </thead>\n",
       "  <tbody>\n",
       "    <tr>\n",
       "      <th>count</th>\n",
       "      <td>3333.000000</td>\n",
       "      <td>3333.000000</td>\n",
       "      <td>3333.000000</td>\n",
       "      <td>3333.000000</td>\n",
       "      <td>3333.000000</td>\n",
       "      <td>3333.000000</td>\n",
       "      <td>3333.000000</td>\n",
       "      <td>3333.000000</td>\n",
       "      <td>3333.000000</td>\n",
       "      <td>3333.000000</td>\n",
       "      <td>3333.000000</td>\n",
       "      <td>3333.000000</td>\n",
       "      <td>3333.000000</td>\n",
       "      <td>3333.000000</td>\n",
       "      <td>3333.000000</td>\n",
       "      <td>3333.000000</td>\n",
       "    </tr>\n",
       "    <tr>\n",
       "      <th>mean</th>\n",
       "      <td>101.064806</td>\n",
       "      <td>437.182418</td>\n",
       "      <td>8.099010</td>\n",
       "      <td>179.775098</td>\n",
       "      <td>100.435644</td>\n",
       "      <td>30.562307</td>\n",
       "      <td>200.980348</td>\n",
       "      <td>100.114311</td>\n",
       "      <td>17.083540</td>\n",
       "      <td>200.872037</td>\n",
       "      <td>100.107711</td>\n",
       "      <td>9.039325</td>\n",
       "      <td>10.237294</td>\n",
       "      <td>4.479448</td>\n",
       "      <td>2.764581</td>\n",
       "      <td>1.562856</td>\n",
       "    </tr>\n",
       "    <tr>\n",
       "      <th>std</th>\n",
       "      <td>39.822106</td>\n",
       "      <td>42.371290</td>\n",
       "      <td>13.688365</td>\n",
       "      <td>54.467389</td>\n",
       "      <td>20.069084</td>\n",
       "      <td>9.259435</td>\n",
       "      <td>50.713844</td>\n",
       "      <td>19.922625</td>\n",
       "      <td>4.310668</td>\n",
       "      <td>50.573847</td>\n",
       "      <td>19.568609</td>\n",
       "      <td>2.275873</td>\n",
       "      <td>2.791840</td>\n",
       "      <td>2.461214</td>\n",
       "      <td>0.753773</td>\n",
       "      <td>1.315491</td>\n",
       "    </tr>\n",
       "    <tr>\n",
       "      <th>min</th>\n",
       "      <td>1.000000</td>\n",
       "      <td>408.000000</td>\n",
       "      <td>0.000000</td>\n",
       "      <td>0.000000</td>\n",
       "      <td>0.000000</td>\n",
       "      <td>0.000000</td>\n",
       "      <td>0.000000</td>\n",
       "      <td>0.000000</td>\n",
       "      <td>0.000000</td>\n",
       "      <td>23.200000</td>\n",
       "      <td>33.000000</td>\n",
       "      <td>1.040000</td>\n",
       "      <td>0.000000</td>\n",
       "      <td>0.000000</td>\n",
       "      <td>0.000000</td>\n",
       "      <td>0.000000</td>\n",
       "    </tr>\n",
       "    <tr>\n",
       "      <th>25%</th>\n",
       "      <td>74.000000</td>\n",
       "      <td>408.000000</td>\n",
       "      <td>0.000000</td>\n",
       "      <td>143.700000</td>\n",
       "      <td>87.000000</td>\n",
       "      <td>24.430000</td>\n",
       "      <td>166.600000</td>\n",
       "      <td>87.000000</td>\n",
       "      <td>14.160000</td>\n",
       "      <td>167.000000</td>\n",
       "      <td>87.000000</td>\n",
       "      <td>7.520000</td>\n",
       "      <td>8.500000</td>\n",
       "      <td>3.000000</td>\n",
       "      <td>2.300000</td>\n",
       "      <td>1.000000</td>\n",
       "    </tr>\n",
       "    <tr>\n",
       "      <th>50%</th>\n",
       "      <td>101.000000</td>\n",
       "      <td>415.000000</td>\n",
       "      <td>0.000000</td>\n",
       "      <td>179.400000</td>\n",
       "      <td>101.000000</td>\n",
       "      <td>30.500000</td>\n",
       "      <td>201.400000</td>\n",
       "      <td>100.000000</td>\n",
       "      <td>17.120000</td>\n",
       "      <td>201.200000</td>\n",
       "      <td>100.000000</td>\n",
       "      <td>9.050000</td>\n",
       "      <td>10.300000</td>\n",
       "      <td>4.000000</td>\n",
       "      <td>2.780000</td>\n",
       "      <td>1.000000</td>\n",
       "    </tr>\n",
       "    <tr>\n",
       "      <th>75%</th>\n",
       "      <td>127.000000</td>\n",
       "      <td>510.000000</td>\n",
       "      <td>20.000000</td>\n",
       "      <td>216.400000</td>\n",
       "      <td>114.000000</td>\n",
       "      <td>36.790000</td>\n",
       "      <td>235.300000</td>\n",
       "      <td>114.000000</td>\n",
       "      <td>20.000000</td>\n",
       "      <td>235.300000</td>\n",
       "      <td>113.000000</td>\n",
       "      <td>10.590000</td>\n",
       "      <td>12.100000</td>\n",
       "      <td>6.000000</td>\n",
       "      <td>3.270000</td>\n",
       "      <td>2.000000</td>\n",
       "    </tr>\n",
       "    <tr>\n",
       "      <th>max</th>\n",
       "      <td>243.000000</td>\n",
       "      <td>510.000000</td>\n",
       "      <td>51.000000</td>\n",
       "      <td>350.800000</td>\n",
       "      <td>165.000000</td>\n",
       "      <td>59.640000</td>\n",
       "      <td>363.700000</td>\n",
       "      <td>170.000000</td>\n",
       "      <td>30.910000</td>\n",
       "      <td>395.000000</td>\n",
       "      <td>175.000000</td>\n",
       "      <td>17.770000</td>\n",
       "      <td>20.000000</td>\n",
       "      <td>20.000000</td>\n",
       "      <td>5.400000</td>\n",
       "      <td>9.000000</td>\n",
       "    </tr>\n",
       "  </tbody>\n",
       "</table>\n",
       "</div>"
      ],
      "text/plain": [
       "       account length    area code  number vmail messages  total day minutes  \\\n",
       "count     3333.000000  3333.000000            3333.000000        3333.000000   \n",
       "mean       101.064806   437.182418               8.099010         179.775098   \n",
       "std         39.822106    42.371290              13.688365          54.467389   \n",
       "min          1.000000   408.000000               0.000000           0.000000   \n",
       "25%         74.000000   408.000000               0.000000         143.700000   \n",
       "50%        101.000000   415.000000               0.000000         179.400000   \n",
       "75%        127.000000   510.000000              20.000000         216.400000   \n",
       "max        243.000000   510.000000              51.000000         350.800000   \n",
       "\n",
       "       total day calls  total day charge  total eve minutes  total eve calls  \\\n",
       "count      3333.000000       3333.000000        3333.000000      3333.000000   \n",
       "mean        100.435644         30.562307         200.980348       100.114311   \n",
       "std          20.069084          9.259435          50.713844        19.922625   \n",
       "min           0.000000          0.000000           0.000000         0.000000   \n",
       "25%          87.000000         24.430000         166.600000        87.000000   \n",
       "50%         101.000000         30.500000         201.400000       100.000000   \n",
       "75%         114.000000         36.790000         235.300000       114.000000   \n",
       "max         165.000000         59.640000         363.700000       170.000000   \n",
       "\n",
       "       total eve charge  total night minutes  total night calls  \\\n",
       "count       3333.000000          3333.000000        3333.000000   \n",
       "mean          17.083540           200.872037         100.107711   \n",
       "std            4.310668            50.573847          19.568609   \n",
       "min            0.000000            23.200000          33.000000   \n",
       "25%           14.160000           167.000000          87.000000   \n",
       "50%           17.120000           201.200000         100.000000   \n",
       "75%           20.000000           235.300000         113.000000   \n",
       "max           30.910000           395.000000         175.000000   \n",
       "\n",
       "       total night charge  total intl minutes  total intl calls  \\\n",
       "count         3333.000000         3333.000000       3333.000000   \n",
       "mean             9.039325           10.237294          4.479448   \n",
       "std              2.275873            2.791840          2.461214   \n",
       "min              1.040000            0.000000          0.000000   \n",
       "25%              7.520000            8.500000          3.000000   \n",
       "50%              9.050000           10.300000          4.000000   \n",
       "75%             10.590000           12.100000          6.000000   \n",
       "max             17.770000           20.000000         20.000000   \n",
       "\n",
       "       total intl charge  customer service calls  \n",
       "count        3333.000000             3333.000000  \n",
       "mean            2.764581                1.562856  \n",
       "std             0.753773                1.315491  \n",
       "min             0.000000                0.000000  \n",
       "25%             2.300000                1.000000  \n",
       "50%             2.780000                1.000000  \n",
       "75%             3.270000                2.000000  \n",
       "max             5.400000                9.000000  "
      ]
     },
     "execution_count": 65,
     "metadata": {},
     "output_type": "execute_result"
    }
   ],
   "source": [
    "df.describe()"
   ]
  },
  {
   "cell_type": "markdown",
   "id": "bd574693",
   "metadata": {},
   "source": [
    "Descriptive statistics reveal the following insights:\n",
    "\n",
    "- The `account length` ranges from 1 to 243 days.\n",
    "- The `customer service calls` vary from 0 to 9, which may indicate levels of customer dissatisfaction.\n",
    "- The distributions of call and charge metrics differ across time periods (day, evening, night, international), with some values exhibiting skewness; for instance, `total intl calls` has a low mean.\n",
    "\n",
    "These insights will guide our feature selection and transformation decisions in the subsequent steps of the analysis."
   ]
  },
  {
   "cell_type": "markdown",
   "id": "06b29fd6",
   "metadata": {},
   "source": [
    "## **Target Variable Analysis**\n",
    "\n",
    "Understanding the distribution of our target variable (`churn`) is crucial for several reasons:\n",
    "\n",
    "- **Identifying Class Imbalance**: It is important to determine whether the classes (e.g., churned vs. not churned) are balanced, as this can affect model performance.\n",
    "- **Setting Appropriate Evaluation Metrics**: Depending on the distribution, we may need to choose specific metrics (e.g., precision, recall, F1-score) that are more informative than accuracy alone.\n",
    "- **Understanding the Business Context**: Analyzing the churn distribution helps us comprehend the implications for customer retention strategies and overall business performance."
   ]
  },
  {
   "cell_type": "code",
   "execution_count": 66,
   "id": "5ea53df0",
   "metadata": {},
   "outputs": [
    {
     "data": {
      "application/vnd.microsoft.datawrangler.viewer.v0+json": {
       "columns": [
        {
         "name": "churn",
         "rawType": "bool",
         "type": "boolean"
        },
        {
         "name": "count",
         "rawType": "int64",
         "type": "integer"
        }
       ],
       "ref": "dc222ffd-e129-4b5f-b77b-a5c36dd6bb98",
       "rows": [
        [
         "False",
         "2850"
        ],
        [
         "True",
         "483"
        ]
       ],
       "shape": {
        "columns": 1,
        "rows": 2
       }
      },
      "text/plain": [
       "churn\n",
       "False    2850\n",
       "True      483\n",
       "Name: count, dtype: int64"
      ]
     },
     "execution_count": 66,
     "metadata": {},
     "output_type": "execute_result"
    }
   ],
   "source": [
    "target_col = 'churn'\n",
    "churn_counts = df[target_col].value_counts()\n",
    "churn_counts"
   ]
  },
  {
   "cell_type": "code",
   "execution_count": 67,
   "id": "d23804ee",
   "metadata": {},
   "outputs": [
    {
     "data": {
      "application/vnd.microsoft.datawrangler.viewer.v0+json": {
       "columns": [
        {
         "name": "churn",
         "rawType": "bool",
         "type": "boolean"
        },
        {
         "name": "proportion",
         "rawType": "float64",
         "type": "float"
        }
       ],
       "ref": "6a92e437-35e7-4f44-bb9f-ce32515b6bf0",
       "rows": [
        [
         "False",
         "85.5085508550855"
        ],
        [
         "True",
         "14.491449144914492"
        ]
       ],
       "shape": {
        "columns": 1,
        "rows": 2
       }
      },
      "text/plain": [
       "churn\n",
       "False    85.508551\n",
       "True     14.491449\n",
       "Name: proportion, dtype: float64"
      ]
     },
     "execution_count": 67,
     "metadata": {},
     "output_type": "execute_result"
    }
   ],
   "source": [
    "churn_percentages = df[target_col].value_counts(normalize=True) * 100\n",
    "churn_percentages"
   ]
  },
  {
   "cell_type": "code",
   "execution_count": 68,
   "id": "7916374f",
   "metadata": {},
   "outputs": [
    {
     "data": {
      "image/png": "[encoded data removed]",
      "text/plain": [
       "<Figure size 1200x500 with 2 Axes>"
      ]
     },
     "metadata": {},
     "output_type": "display_data"
    }
   ],
   "source": [
    "# Get the current active Seaborn color cycle\n",
    "current_palette = sns.color_palette()  # This respects the globally set palette\n",
    "\n",
    "# Map the colors to target_col values consistently\n",
    "unique_churn = sorted(df[target_col].unique())\n",
    "color_map = dict(zip(unique_churn, current_palette[:len(unique_churn)]))\n",
    "\n",
    "# Visualize target distribution\n",
    "fig, (ax1, ax2) = plt.subplots(1, 2, figsize=(12, 5))\n",
    "\n",
    "# Bar plot\n",
    "churn_counts.plot(\n",
    "    kind='bar',\n",
    "    ax=ax1,\n",
    "    color=[color_map[val] for val in churn_counts.index]\n",
    ")\n",
    "ax1.set_title('Churn Distribution (Counts)')\n",
    "ax1.set_xlabel('Churn')\n",
    "ax1.set_ylabel('Count')\n",
    "ax1.tick_params(axis='x', rotation=0)\n",
    "\n",
    "# Pie chart\n",
    "ax2.pie(\n",
    "    churn_percentages.values,\n",
    "    labels=churn_counts.index,\n",
    "    autopct='%1.1f%%',\n",
    "    colors=[color_map[val] for val in churn_counts.index]\n",
    ")\n",
    "ax2.set_title('Churn Distribution (Percentages)')\n",
    "\n",
    "plt.tight_layout()\n",
    "plt.show()"
   ]
  },
  {
   "cell_type": "markdown",
   "id": "8adaee2b",
   "metadata": {},
   "source": [
    "The minority class (churned customers) constitutes only **14.5%** of the data, indicating a significant class imbalance. To address this issue, we should consider employing techniques such as:\n",
    "\n",
    "- **SMOTE (Synthetic Minority Over-sampling Technique)**: This technique generates synthetic samples for the minority class to balance the dataset.\n",
    "- **Class Weighting**: Adjusting the weights of the classes in the loss function can help the model pay more attention to the minority class during training.\n",
    "- **Focused Evaluation Metrics**: Utilizing metrics such as precision, recall, and F1-score can provide a more comprehensive understanding of model performance, especially in the context of imbalanced classes."
   ]
  },
  {
   "cell_type": "markdown",
   "id": "0461720d",
   "metadata": {},
   "source": [
    "## **Exploratory Data Analysis**\n",
    "\n",
    "In this section, we will examine the relationships between features and the target variable to achieve the following objectives:\n",
    "\n",
    "- **Uncover Patterns in Customer Behavior**: By analyzing the data, we can identify trends and behaviors that may influence customer decisions regarding churn.\n",
    "- **Identify Potential Predictors of Churn**: We will explore which features are most strongly associated with the likelihood of customers churning, helping to inform our modeling efforts.\n",
    "- **Derive Actionable Business Insights**: The insights gained from this analysis can guide strategic decisions aimed at improving customer retention and overall business performance."
   ]
  },
  {
   "cell_type": "code",
   "execution_count": 69,
   "id": "5071d833",
   "metadata": {},
   "outputs": [],
   "source": [
    "# Separate numerical and categorical features\n",
    "numerical_features = df.select_dtypes(include=[np.number]).columns.tolist()\n",
    "categorical_features = df.select_dtypes(include=['object', 'bool']).columns.tolist()"
   ]
  },
  {
   "cell_type": "code",
   "execution_count": 70,
   "id": "b6daae9c",
   "metadata": {},
   "outputs": [
    {
     "name": "stdout",
     "output_type": "stream",
     "text": [
      "Numerical features (16): ['account length', 'area code', 'number vmail messages', 'total day minutes', 'total day calls', 'total day charge', 'total eve minutes', 'total eve calls', 'total eve charge', 'total night minutes', 'total night calls', 'total night charge', 'total intl minutes', 'total intl calls', 'total intl charge', 'customer service calls']\n",
      "Categorical features (4): ['state', 'phone number', 'international plan', 'voice mail plan']\n"
     ]
    }
   ],
   "source": [
    "# Remove target from feature lists if present\n",
    "if target_col in numerical_features:\n",
    "    numerical_features.remove(target_col)\n",
    "if target_col in categorical_features:\n",
    "    categorical_features.remove(target_col)\n",
    "    \n",
    "print(f\"Numerical features ({len(numerical_features)}): {numerical_features}\")\n",
    "print(f\"Categorical features ({len(categorical_features)}): {categorical_features}\")"
   ]
  },
  {
   "cell_type": "markdown",
   "id": "7b0e6ad0",
   "metadata": {},
   "source": [
    "We have identified **16 numerical** and **4 categorical** features (excluding the target variable). The next steps will involve:\n",
    "\n",
    "1. **Analyzing Correlations Among Numerical Features**: We will compute correlation coefficients to understand the relationships between numerical features and their potential impact on churn.\n",
    "\n",
    "2. **Exploring the Impact of Categorical Features on Churn**: We will examine how the categorical features relate to the target variable (`churn`) to identify any significant associations that may influence customer retention. \n",
    "\n",
    "This analysis will help us refine our feature selection and modeling strategies."
   ]
  },
  {
   "cell_type": "code",
   "execution_count": 71,
   "id": "93d2eee7",
   "metadata": {},
   "outputs": [
    {
     "data": {
      "image/png": "[encoded data removed]",
      "text/plain": [
       "<Figure size 1200x1000 with 2 Axes>"
      ]
     },
     "metadata": {},
     "output_type": "display_data"
    }
   ],
   "source": [
    "# Correlation analysis for numerical features\n",
    "# Correlation matrix\n",
    "plt.figure(figsize=(12, 10))\n",
    "correlation_matrix = df[numerical_features + [target_col]].corr()\n",
    "\n",
    "# Create heatmap\n",
    "mask = np.triu(np.ones_like(correlation_matrix, dtype=bool))\n",
    "sns.heatmap(correlation_matrix, annot=True, cmap='coolwarm', center=0,\n",
    "            square=True, mask=mask, fmt='.2f')\n",
    "plt.title('Feature Correlation Matrix')\n",
    "plt.tight_layout()\n",
    "plt.show()"
   ]
  },
  {
   "cell_type": "markdown",
   "id": "624575cd",
   "metadata": {},
   "source": [
    "- **Customer service calls**, **total day charge**, and **total day minutes** exhibit the strongest (though still moderate) positive correlation with churn, approximately **0.21**. This suggests that as these metrics increase, the likelihood of churn also increases.\n",
    "  \n",
    "- The **number of voicemail messages** shows a weak negative correlation with churn, indicating that customers with more voicemail messages may be slightly less likely to churn.\n",
    "\n",
    "- Most features demonstrate very low correlation with churn, suggesting that they have limited linear influence on churn when considered individually.\n",
    "\n",
    "- Strong internal correlations (e.g., between minutes and charges) are expected due to the pricing structure, which reflects the relationship between usage and billing. \n",
    "\n",
    "These findings will inform our feature selection and modeling approaches as we proceed."
   ]
  },
  {
   "cell_type": "code",
   "execution_count": 72,
   "id": "0b3f741c",
   "metadata": {},
   "outputs": [
    {
     "name": "stdout",
     "output_type": "stream",
     "text": [
      "\n",
      "Features most correlated with churn:\n",
      "customer service calls    0.208750\n",
      "total day minutes         0.205151\n",
      "total day charge          0.205151\n",
      "total eve minutes         0.092796\n",
      "total eve charge          0.092786\n",
      "Name: churn, dtype: float64\n"
     ]
    }
   ],
   "source": [
    "# Features most correlated with target\n",
    "target_correlations = correlation_matrix[target_col].abs().sort_values(ascending=False)\n",
    "print(f\"\\nFeatures most correlated with {target_col}:\")\n",
    "print(target_correlations[1:6])  # Exclude self-correlation"
   ]
  },
  {
   "cell_type": "code",
   "execution_count": 73,
   "id": "0fbcd991",
   "metadata": {},
   "outputs": [
    {
     "data": {
      "image/png": "[encoded data removed]",
      "text/plain": [
       "<Figure size 1500x1000 with 6 Axes>"
      ]
     },
     "metadata": {},
     "output_type": "display_data"
    }
   ],
   "source": [
    "# Distribution analysis for key numerical features\n",
    "# Select top 6 numerical features for visualization\n",
    "features_to_plot = numerical_features[:6]\n",
    "\n",
    "fig, axes = plt.subplots(2, 3, figsize=(15, 10))\n",
    "axes = axes.ravel()\n",
    "\n",
    "for i, feature in enumerate(features_to_plot):\n",
    "    if i < len(axes):\n",
    "        # Box plot for each feature by churn status\n",
    "        df.boxplot(column=feature, by=target_col, ax=axes[i])\n",
    "        axes[i].set_title(f'{feature} by Churn Status')\n",
    "        axes[i].set_xlabel('Churn')\n",
    "\n",
    "# Hide empty subplots\n",
    "for i in range(len(features_to_plot), len(axes)):\n",
    "    axes[i].set_visible(False)\n",
    "\n",
    "plt.tight_layout()\n",
    "plt.show()"
   ]
  },
  {
   "cell_type": "markdown",
   "id": "a8a75fd7",
   "metadata": {},
   "source": [
    "- **Account Length**: There is no significant difference in account length between churned and non-churned users, indicating that it may not be a strong predictor of churn.\n",
    "\n",
    "- **Area Code**: This feature shows minimal variation across churn status and is likely not informative for churn prediction.\n",
    "\n",
    "- **Number of Voicemail Messages**: Customers who churn tend to have fewer voicemail messages. In contrast, non-churned customers exhibit a wider range and higher median voicemail counts, suggesting that this feature could be useful for predicting churn.\n",
    "\n",
    "- **Total Day Minutes & Total Day Charge**: Both features show higher median values for churned customers, indicating that those who use more call time (and incur higher charges) are more likely to churn.\n",
    "\n",
    "- **Total Day Calls**: This feature appears fairly uniform between both groups, implying limited predictive power.\n",
    "\n",
    "These exploratory insights suggest that usage-based features, such as total minutes and charges, may be more relevant for predicting churn than static attributes like account length or area code. This understanding will guide our feature selection and modeling strategies moving forward."
   ]
  },
  {
   "cell_type": "code",
   "execution_count": 74,
   "id": "5ecb63fe",
   "metadata": {},
   "outputs": [
    {
     "data": {
      "image/png": "[encoded data removed]",
      "text/plain": [
       "<Figure size 1500x1200 with 4 Axes>"
      ]
     },
     "metadata": {},
     "output_type": "display_data"
    }
   ],
   "source": [
    "# Categorical features analysis (first 4)\n",
    "fig, axes = plt.subplots(2, 2, figsize=(15, 12)) \n",
    "axes = axes.ravel()  # Flatten the 2D array of axes to 1D for easy indexing\n",
    "\n",
    "for i, feature in enumerate(categorical_features[:4]):\n",
    "    sns.countplot(data=df, x=feature, hue=target_col, ax=axes[i])\n",
    "    axes[i].set_title(f'{feature} Distribution by Churn')\n",
    "    axes[i].tick_params(axis='x', rotation=45)\n",
    "\n",
    "plt.tight_layout()\n",
    "plt.show()"
   ]
  },
  {
   "cell_type": "markdown",
   "id": "c2feec1e",
   "metadata": {},
   "source": [
    "**Note**: The x-axis formatting may not be optimal for the first two visualizations, as we are primarily focused on exploratory data understanding at this stage.\n",
    "\n",
    "Here are the comprehensive takeaways from our feature exploration:\n",
    "\n",
    "- **State**: While the overall churn rate appears relatively consistent across states, the distribution reveals more nuanced patterns than initially apparent. Several states show notably higher churn volumes in absolute terms, with a few states displaying higher absolute numbers of churned customers, even if their proportional churn rates aren't dramatically different. The variation is more pronounced than a completely uniform distribution would suggest, indicating that *state* may have some predictive value in modeling, particularly for identifying high-volume churn locations.\n",
    "\n",
    "- **Phone Number**: Since phone numbers are unique identifiers, each value only appears once in the dataset. This results in a uniform distribution with each count equal to 1. As expected, this feature offers no predictive value and should be excluded from modeling.\n",
    "\n",
    "- **International Plan**: Customers without international plans (`No`) represent the vast majority of the dataset (approximately **2,700** customers), with most being retained customers. However, among the smaller group with international plans (`Yes`), there appears to be a notably higher proportion of churned customers relative to the plan's adoption rate. This suggests that *international plan* enrollment may be associated with higher churn risk.\n",
    "\n",
    "- **Voice Mail Plan**: The distribution shows that customers without voice mail plans (`No`) make up the larger segment (over **2,000** customers), but interestingly, customers with voice mail plans (`Yes`) exhibit a different churn pattern. The voice mail plan group appears to have a relatively lower churn rate, suggesting that *voice mail plan* adoption might be associated with customer retention.\n",
    "\n",
    "The service plan features (international and voice mail) demonstrate clear distributional differences by churn status, making them valuable candidates for our predictive model."
   ]
  },
  {
   "cell_type": "markdown",
   "id": "185ec9ba",
   "metadata": {},
   "source": [
    "## **Feature Engineering & Preprocessing**\n",
    "\n",
    "We will engineer features to better represent customer behavior (e.g., average call duration, total usage) and encode categorical variables for compatibility with machine learning models. This step is crucial to enhance predictive power and ensure the data is ready for modeling.\n"
   ]
  },
  {
   "cell_type": "code",
   "execution_count": 75,
   "id": "77578dc6",
   "metadata": {},
   "outputs": [],
   "source": [
    "# Create a copy for preprocessing\n",
    "df_processed = df.copy()"
   ]
  },
  {
   "cell_type": "code",
   "execution_count": 76,
   "id": "00a7fbc5",
   "metadata": {},
   "outputs": [
    {
     "data": {
      "application/vnd.microsoft.datawrangler.viewer.v0+json": {
       "columns": [
        {
         "name": "index",
         "rawType": "int64",
         "type": "integer"
        },
        {
         "name": "state",
         "rawType": "object",
         "type": "string"
        },
        {
         "name": "account length",
         "rawType": "int64",
         "type": "integer"
        },
        {
         "name": "area code",
         "rawType": "int64",
         "type": "integer"
        },
        {
         "name": "phone number",
         "rawType": "object",
         "type": "string"
        },
        {
         "name": "international plan",
         "rawType": "object",
         "type": "string"
        },
        {
         "name": "voice mail plan",
         "rawType": "object",
         "type": "string"
        },
        {
         "name": "number vmail messages",
         "rawType": "int64",
         "type": "integer"
        },
        {
         "name": "total day minutes",
         "rawType": "float64",
         "type": "float"
        },
        {
         "name": "total day calls",
         "rawType": "int64",
         "type": "integer"
        },
        {
         "name": "total day charge",
         "rawType": "float64",
         "type": "float"
        },
        {
         "name": "total eve minutes",
         "rawType": "float64",
         "type": "float"
        },
        {
         "name": "total eve calls",
         "rawType": "int64",
         "type": "integer"
        },
        {
         "name": "total eve charge",
         "rawType": "float64",
         "type": "float"
        },
        {
         "name": "total night minutes",
         "rawType": "float64",
         "type": "float"
        },
        {
         "name": "total night calls",
         "rawType": "int64",
         "type": "integer"
        },
        {
         "name": "total night charge",
         "rawType": "float64",
         "type": "float"
        },
        {
         "name": "total intl minutes",
         "rawType": "float64",
         "type": "float"
        },
        {
         "name": "total intl calls",
         "rawType": "int64",
         "type": "integer"
        },
        {
         "name": "total intl charge",
         "rawType": "float64",
         "type": "float"
        },
        {
         "name": "customer service calls",
         "rawType": "int64",
         "type": "integer"
        },
        {
         "name": "churn",
         "rawType": "bool",
         "type": "boolean"
        },
        {
         "name": "avg call duration day",
         "rawType": "float64",
         "type": "float"
        }
       ],
       "ref": "e536208c-bbc4-4209-a187-f67d6ef28897",
       "rows": [
        [
         "0",
         "KS",
         "128",
         "415",
         "382-4657",
         "no",
         "yes",
         "25",
         "265.1",
         "110",
         "45.07",
         "197.4",
         "99",
         "16.78",
         "244.7",
         "91",
         "11.01",
         "10.0",
         "3",
         "2.7",
         "1",
         "False",
         "2.41"
        ],
        [
         "1",
         "OH",
         "107",
         "415",
         "371-7191",
         "no",
         "yes",
         "26",
         "161.6",
         "123",
         "27.47",
         "195.5",
         "103",
         "16.62",
         "254.4",
         "103",
         "11.45",
         "13.7",
         "3",
         "3.7",
         "1",
         "False",
         "1.313821138211382"
        ],
        [
         "2",
         "NJ",
         "137",
         "415",
         "358-1921",
         "no",
         "no",
         "0",
         "243.4",
         "114",
         "41.38",
         "121.2",
         "110",
         "10.3",
         "162.6",
         "104",
         "7.32",
         "12.2",
         "5",
         "3.29",
         "0",
         "False",
         "2.135087719298246"
        ],
        [
         "3",
         "OH",
         "84",
         "408",
         "375-9999",
         "yes",
         "no",
         "0",
         "299.4",
         "71",
         "50.9",
         "61.9",
         "88",
         "5.26",
         "196.9",
         "89",
         "8.86",
         "6.6",
         "7",
         "1.78",
         "2",
         "False",
         "4.2169014084507035"
        ],
        [
         "4",
         "OK",
         "75",
         "415",
         "330-6626",
         "yes",
         "no",
         "0",
         "166.7",
         "113",
         "28.34",
         "148.3",
         "122",
         "12.61",
         "186.9",
         "121",
         "8.41",
         "10.1",
         "3",
         "2.73",
         "3",
         "False",
         "1.475221238938053"
        ]
       ],
       "shape": {
        "columns": 22,
        "rows": 5
       }
      },
      "text/html": [
       "<div>\n",
       "<style scoped>\n",
       "    .dataframe tbody tr th:only-of-type {\n",
       "        vertical-align: middle;\n",
       "    }\n",
       "\n",
       "    .dataframe tbody tr th {\n",
       "        vertical-align: top;\n",
       "    }\n",
       "\n",
       "    .dataframe thead th {\n",
       "        text-align: right;\n",
       "    }\n",
       "</style>\n",
       "<table border=\"1\" class=\"dataframe\">\n",
       "  <thead>\n",
       "    <tr style=\"text-align: right;\">\n",
       "      <th></th>\n",
       "      <th>state</th>\n",
       "      <th>account length</th>\n",
       "      <th>area code</th>\n",
       "      <th>phone number</th>\n",
       "      <th>international plan</th>\n",
       "      <th>voice mail plan</th>\n",
       "      <th>number vmail messages</th>\n",
       "      <th>total day minutes</th>\n",
       "      <th>total day calls</th>\n",
       "      <th>total day charge</th>\n",
       "      <th>...</th>\n",
       "      <th>total eve charge</th>\n",
       "      <th>total night minutes</th>\n",
       "      <th>total night calls</th>\n",
       "      <th>total night charge</th>\n",
       "      <th>total intl minutes</th>\n",
       "      <th>total intl calls</th>\n",
       "      <th>total intl charge</th>\n",
       "      <th>customer service calls</th>\n",
       "      <th>churn</th>\n",
       "      <th>avg call duration day</th>\n",
       "    </tr>\n",
       "  </thead>\n",
       "  <tbody>\n",
       "    <tr>\n",
       "      <th>0</th>\n",
       "      <td>KS</td>\n",
       "      <td>128</td>\n",
       "      <td>415</td>\n",
       "      <td>382-4657</td>\n",
       "      <td>no</td>\n",
       "      <td>yes</td>\n",
       "      <td>25</td>\n",
       "      <td>265.1</td>\n",
       "      <td>110</td>\n",
       "      <td>45.07</td>\n",
       "      <td>...</td>\n",
       "      <td>16.78</td>\n",
       "      <td>244.7</td>\n",
       "      <td>91</td>\n",
       "      <td>11.01</td>\n",
       "      <td>10.0</td>\n",
       "      <td>3</td>\n",
       "      <td>2.70</td>\n",
       "      <td>1</td>\n",
       "      <td>False</td>\n",
       "      <td>2.410000</td>\n",
       "    </tr>\n",
       "    <tr>\n",
       "      <th>1</th>\n",
       "      <td>OH</td>\n",
       "      <td>107</td>\n",
       "      <td>415</td>\n",
       "      <td>371-7191</td>\n",
       "      <td>no</td>\n",
       "      <td>yes</td>\n",
       "      <td>26</td>\n",
       "      <td>161.6</td>\n",
       "      <td>123</td>\n",
       "      <td>27.47</td>\n",
       "      <td>...</td>\n",
       "      <td>16.62</td>\n",
       "      <td>254.4</td>\n",
       "      <td>103</td>\n",
       "      <td>11.45</td>\n",
       "      <td>13.7</td>\n",
       "      <td>3</td>\n",
       "      <td>3.70</td>\n",
       "      <td>1</td>\n",
       "      <td>False</td>\n",
       "      <td>1.313821</td>\n",
       "    </tr>\n",
       "    <tr>\n",
       "      <th>2</th>\n",
       "      <td>NJ</td>\n",
       "      <td>137</td>\n",
       "      <td>415</td>\n",
       "      <td>358-1921</td>\n",
       "      <td>no</td>\n",
       "      <td>no</td>\n",
       "      <td>0</td>\n",
       "      <td>243.4</td>\n",
       "      <td>114</td>\n",
       "      <td>41.38</td>\n",
       "      <td>...</td>\n",
       "      <td>10.30</td>\n",
       "      <td>162.6</td>\n",
       "      <td>104</td>\n",
       "      <td>7.32</td>\n",
       "      <td>12.2</td>\n",
       "      <td>5</td>\n",
       "      <td>3.29</td>\n",
       "      <td>0</td>\n",
       "      <td>False</td>\n",
       "      <td>2.135088</td>\n",
       "    </tr>\n",
       "    <tr>\n",
       "      <th>3</th>\n",
       "      <td>OH</td>\n",
       "      <td>84</td>\n",
       "      <td>408</td>\n",
       "      <td>375-9999</td>\n",
       "      <td>yes</td>\n",
       "      <td>no</td>\n",
       "      <td>0</td>\n",
       "      <td>299.4</td>\n",
       "      <td>71</td>\n",
       "      <td>50.90</td>\n",
       "      <td>...</td>\n",
       "      <td>5.26</td>\n",
       "      <td>196.9</td>\n",
       "      <td>89</td>\n",
       "      <td>8.86</td>\n",
       "      <td>6.6</td>\n",
       "      <td>7</td>\n",
       "      <td>1.78</td>\n",
       "      <td>2</td>\n",
       "      <td>False</td>\n",
       "      <td>4.216901</td>\n",
       "    </tr>\n",
       "    <tr>\n",
       "      <th>4</th>\n",
       "      <td>OK</td>\n",
       "      <td>75</td>\n",
       "      <td>415</td>\n",
       "      <td>330-6626</td>\n",
       "      <td>yes</td>\n",
       "      <td>no</td>\n",
       "      <td>0</td>\n",
       "      <td>166.7</td>\n",
       "      <td>113</td>\n",
       "      <td>28.34</td>\n",
       "      <td>...</td>\n",
       "      <td>12.61</td>\n",
       "      <td>186.9</td>\n",
       "      <td>121</td>\n",
       "      <td>8.41</td>\n",
       "      <td>10.1</td>\n",
       "      <td>3</td>\n",
       "      <td>2.73</td>\n",
       "      <td>3</td>\n",
       "      <td>False</td>\n",
       "      <td>1.475221</td>\n",
       "    </tr>\n",
       "  </tbody>\n",
       "</table>\n",
       "<p>5 rows × 22 columns</p>\n",
       "</div>"
      ],
      "text/plain": [
       "  state  account length  area code phone number international plan  \\\n",
       "0    KS             128        415     382-4657                 no   \n",
       "1    OH             107        415     371-7191                 no   \n",
       "2    NJ             137        415     358-1921                 no   \n",
       "3    OH              84        408     375-9999                yes   \n",
       "4    OK              75        415     330-6626                yes   \n",
       "\n",
       "  voice mail plan  number vmail messages  total day minutes  total day calls  \\\n",
       "0             yes                     25              265.1              110   \n",
       "1             yes                     26              161.6              123   \n",
       "2              no                      0              243.4              114   \n",
       "3              no                      0              299.4               71   \n",
       "4              no                      0              166.7              113   \n",
       "\n",
       "   total day charge  ...  total eve charge  total night minutes  \\\n",
       "0             45.07  ...             16.78                244.7   \n",
       "1             27.47  ...             16.62                254.4   \n",
       "2             41.38  ...             10.30                162.6   \n",
       "3             50.90  ...              5.26                196.9   \n",
       "4             28.34  ...             12.61                186.9   \n",
       "\n",
       "   total night calls  total night charge  total intl minutes  \\\n",
       "0                 91               11.01                10.0   \n",
       "1                103               11.45                13.7   \n",
       "2                104                7.32                12.2   \n",
       "3                 89                8.86                 6.6   \n",
       "4                121                8.41                10.1   \n",
       "\n",
       "   total intl calls  total intl charge  customer service calls  churn  \\\n",
       "0                 3               2.70                       1  False   \n",
       "1                 3               3.70                       1  False   \n",
       "2                 5               3.29                       0  False   \n",
       "3                 7               1.78                       2  False   \n",
       "4                 3               2.73                       3  False   \n",
       "\n",
       "   avg call duration day  \n",
       "0               2.410000  \n",
       "1               1.313821  \n",
       "2               2.135088  \n",
       "3               4.216901  \n",
       "4               1.475221  \n",
       "\n",
       "[5 rows x 22 columns]"
      ]
     },
     "execution_count": 76,
     "metadata": {},
     "output_type": "execute_result"
    }
   ],
   "source": [
    "df_processed['avg call duration day'] = df_processed['total day minutes'] / df_processed['total day calls']\n",
    "df_processed['avg call duration day'] = df_processed['avg call duration day'].fillna(0)\n",
    "df_processed.head()"
   ]
  },
  {
   "cell_type": "markdown",
   "id": "7f1d7c45",
   "metadata": {},
   "source": [
    "Introduced **average daytime call duration** as an engineered feature to better capture individual call patterns and usage intensity. This metric is derived by dividing `total day minutes` by `total day calls`, providing insights into:\n",
    "\n",
    "1. **Usage Behavior**:\n",
    "   - Customers with consistently longer call durations may represent different usage patterns than frequent short-call users.\n",
    "   \n",
    "2. **Billing Sensitivity**:\n",
    "   - Combines time-based and volume-based usage into a single metric that may reveal cost-related churn triggers.\n",
    "\n",
    "3. **Feature Redundancy Reduction**:\n",
    "   - Replaces correlated minute/count features while preserving their combined informational value.\n",
    "\n",
    "4. **Behavioral Segmentation**:\n",
    "   - Enables categorization of users by typical session length for targeted retention strategies.\n",
    "\n",
    "This transformation converts raw usage data into a more interpretable feature that aligns with observed churn patterns from our EDA."
   ]
  },
  {
   "cell_type": "code",
   "execution_count": 77,
   "id": "644e1618",
   "metadata": {},
   "outputs": [
    {
     "data": {
      "application/vnd.microsoft.datawrangler.viewer.v0+json": {
       "columns": [
        {
         "name": "index",
         "rawType": "int64",
         "type": "integer"
        },
        {
         "name": "state",
         "rawType": "object",
         "type": "string"
        },
        {
         "name": "account length",
         "rawType": "int64",
         "type": "integer"
        },
        {
         "name": "area code",
         "rawType": "int64",
         "type": "integer"
        },
        {
         "name": "phone number",
         "rawType": "object",
         "type": "string"
        },
        {
         "name": "international plan",
         "rawType": "object",
         "type": "string"
        },
        {
         "name": "voice mail plan",
         "rawType": "object",
         "type": "string"
        },
        {
         "name": "number vmail messages",
         "rawType": "int64",
         "type": "integer"
        },
        {
         "name": "total day minutes",
         "rawType": "float64",
         "type": "float"
        },
        {
         "name": "total day calls",
         "rawType": "int64",
         "type": "integer"
        },
        {
         "name": "total day charge",
         "rawType": "float64",
         "type": "float"
        },
        {
         "name": "total eve minutes",
         "rawType": "float64",
         "type": "float"
        },
        {
         "name": "total eve calls",
         "rawType": "int64",
         "type": "integer"
        },
        {
         "name": "total eve charge",
         "rawType": "float64",
         "type": "float"
        },
        {
         "name": "total night minutes",
         "rawType": "float64",
         "type": "float"
        },
        {
         "name": "total night calls",
         "rawType": "int64",
         "type": "integer"
        },
        {
         "name": "total night charge",
         "rawType": "float64",
         "type": "float"
        },
        {
         "name": "total intl minutes",
         "rawType": "float64",
         "type": "float"
        },
        {
         "name": "total intl calls",
         "rawType": "int64",
         "type": "integer"
        },
        {
         "name": "total intl charge",
         "rawType": "float64",
         "type": "float"
        },
        {
         "name": "customer service calls",
         "rawType": "int64",
         "type": "integer"
        },
        {
         "name": "churn",
         "rawType": "bool",
         "type": "boolean"
        },
        {
         "name": "avg call duration day",
         "rawType": "float64",
         "type": "float"
        },
        {
         "name": "total minutes",
         "rawType": "float64",
         "type": "float"
        },
        {
         "name": "total calls",
         "rawType": "int64",
         "type": "integer"
        },
        {
         "name": "total charge",
         "rawType": "float64",
         "type": "float"
        }
       ],
       "ref": "c4956751-4e4f-4309-90ad-e0d2786a9500",
       "rows": [
        [
         "0",
         "KS",
         "128",
         "415",
         "382-4657",
         "no",
         "yes",
         "25",
         "265.1",
         "110",
         "45.07",
         "197.4",
         "99",
         "16.78",
         "244.7",
         "91",
         "11.01",
         "10.0",
         "3",
         "2.7",
         "1",
         "False",
         "2.41",
         "717.2",
         "303",
         "75.56"
        ],
        [
         "1",
         "OH",
         "107",
         "415",
         "371-7191",
         "no",
         "yes",
         "26",
         "161.6",
         "123",
         "27.47",
         "195.5",
         "103",
         "16.62",
         "254.4",
         "103",
         "11.45",
         "13.7",
         "3",
         "3.7",
         "1",
         "False",
         "1.313821138211382",
         "625.2",
         "332",
         "59.24000000000001"
        ],
        [
         "2",
         "NJ",
         "137",
         "415",
         "358-1921",
         "no",
         "no",
         "0",
         "243.4",
         "114",
         "41.38",
         "121.2",
         "110",
         "10.3",
         "162.6",
         "104",
         "7.32",
         "12.2",
         "5",
         "3.29",
         "0",
         "False",
         "2.135087719298246",
         "539.4000000000001",
         "333",
         "62.290000000000006"
        ],
        [
         "3",
         "OH",
         "84",
         "408",
         "375-9999",
         "yes",
         "no",
         "0",
         "299.4",
         "71",
         "50.9",
         "61.9",
         "88",
         "5.26",
         "196.9",
         "89",
         "8.86",
         "6.6",
         "7",
         "1.78",
         "2",
         "False",
         "4.2169014084507035",
         "564.8",
         "255",
         "66.8"
        ],
        [
         "4",
         "OK",
         "75",
         "415",
         "330-6626",
         "yes",
         "no",
         "0",
         "166.7",
         "113",
         "28.34",
         "148.3",
         "122",
         "12.61",
         "186.9",
         "121",
         "8.41",
         "10.1",
         "3",
         "2.73",
         "3",
         "False",
         "1.475221238938053",
         "512.0",
         "359",
         "52.089999999999996"
        ]
       ],
       "shape": {
        "columns": 25,
        "rows": 5
       }
      },
      "text/html": [
       "<div>\n",
       "<style scoped>\n",
       "    .dataframe tbody tr th:only-of-type {\n",
       "        vertical-align: middle;\n",
       "    }\n",
       "\n",
       "    .dataframe tbody tr th {\n",
       "        vertical-align: top;\n",
       "    }\n",
       "\n",
       "    .dataframe thead th {\n",
       "        text-align: right;\n",
       "    }\n",
       "</style>\n",
       "<table border=\"1\" class=\"dataframe\">\n",
       "  <thead>\n",
       "    <tr style=\"text-align: right;\">\n",
       "      <th></th>\n",
       "      <th>state</th>\n",
       "      <th>account length</th>\n",
       "      <th>area code</th>\n",
       "      <th>phone number</th>\n",
       "      <th>international plan</th>\n",
       "      <th>voice mail plan</th>\n",
       "      <th>number vmail messages</th>\n",
       "      <th>total day minutes</th>\n",
       "      <th>total day calls</th>\n",
       "      <th>total day charge</th>\n",
       "      <th>...</th>\n",
       "      <th>total night charge</th>\n",
       "      <th>total intl minutes</th>\n",
       "      <th>total intl calls</th>\n",
       "      <th>total intl charge</th>\n",
       "      <th>customer service calls</th>\n",
       "      <th>churn</th>\n",
       "      <th>avg call duration day</th>\n",
       "      <th>total minutes</th>\n",
       "      <th>total calls</th>\n",
       "      <th>total charge</th>\n",
       "    </tr>\n",
       "  </thead>\n",
       "  <tbody>\n",
       "    <tr>\n",
       "      <th>0</th>\n",
       "      <td>KS</td>\n",
       "      <td>128</td>\n",
       "      <td>415</td>\n",
       "      <td>382-4657</td>\n",
       "      <td>no</td>\n",
       "      <td>yes</td>\n",
       "      <td>25</td>\n",
       "      <td>265.1</td>\n",
       "      <td>110</td>\n",
       "      <td>45.07</td>\n",
       "      <td>...</td>\n",
       "      <td>11.01</td>\n",
       "      <td>10.0</td>\n",
       "      <td>3</td>\n",
       "      <td>2.70</td>\n",
       "      <td>1</td>\n",
       "      <td>False</td>\n",
       "      <td>2.410000</td>\n",
       "      <td>717.2</td>\n",
       "      <td>303</td>\n",
       "      <td>75.56</td>\n",
       "    </tr>\n",
       "    <tr>\n",
       "      <th>1</th>\n",
       "      <td>OH</td>\n",
       "      <td>107</td>\n",
       "      <td>415</td>\n",
       "      <td>371-7191</td>\n",
       "      <td>no</td>\n",
       "      <td>yes</td>\n",
       "      <td>26</td>\n",
       "      <td>161.6</td>\n",
       "      <td>123</td>\n",
       "      <td>27.47</td>\n",
       "      <td>...</td>\n",
       "      <td>11.45</td>\n",
       "      <td>13.7</td>\n",
       "      <td>3</td>\n",
       "      <td>3.70</td>\n",
       "      <td>1</td>\n",
       "      <td>False</td>\n",
       "      <td>1.313821</td>\n",
       "      <td>625.2</td>\n",
       "      <td>332</td>\n",
       "      <td>59.24</td>\n",
       "    </tr>\n",
       "    <tr>\n",
       "      <th>2</th>\n",
       "      <td>NJ</td>\n",
       "      <td>137</td>\n",
       "      <td>415</td>\n",
       "      <td>358-1921</td>\n",
       "      <td>no</td>\n",
       "      <td>no</td>\n",
       "      <td>0</td>\n",
       "      <td>243.4</td>\n",
       "      <td>114</td>\n",
       "      <td>41.38</td>\n",
       "      <td>...</td>\n",
       "      <td>7.32</td>\n",
       "      <td>12.2</td>\n",
       "      <td>5</td>\n",
       "      <td>3.29</td>\n",
       "      <td>0</td>\n",
       "      <td>False</td>\n",
       "      <td>2.135088</td>\n",
       "      <td>539.4</td>\n",
       "      <td>333</td>\n",
       "      <td>62.29</td>\n",
       "    </tr>\n",
       "    <tr>\n",
       "      <th>3</th>\n",
       "      <td>OH</td>\n",
       "      <td>84</td>\n",
       "      <td>408</td>\n",
       "      <td>375-9999</td>\n",
       "      <td>yes</td>\n",
       "      <td>no</td>\n",
       "      <td>0</td>\n",
       "      <td>299.4</td>\n",
       "      <td>71</td>\n",
       "      <td>50.90</td>\n",
       "      <td>...</td>\n",
       "      <td>8.86</td>\n",
       "      <td>6.6</td>\n",
       "      <td>7</td>\n",
       "      <td>1.78</td>\n",
       "      <td>2</td>\n",
       "      <td>False</td>\n",
       "      <td>4.216901</td>\n",
       "      <td>564.8</td>\n",
       "      <td>255</td>\n",
       "      <td>66.80</td>\n",
       "    </tr>\n",
       "    <tr>\n",
       "      <th>4</th>\n",
       "      <td>OK</td>\n",
       "      <td>75</td>\n",
       "      <td>415</td>\n",
       "      <td>330-6626</td>\n",
       "      <td>yes</td>\n",
       "      <td>no</td>\n",
       "      <td>0</td>\n",
       "      <td>166.7</td>\n",
       "      <td>113</td>\n",
       "      <td>28.34</td>\n",
       "      <td>...</td>\n",
       "      <td>8.41</td>\n",
       "      <td>10.1</td>\n",
       "      <td>3</td>\n",
       "      <td>2.73</td>\n",
       "      <td>3</td>\n",
       "      <td>False</td>\n",
       "      <td>1.475221</td>\n",
       "      <td>512.0</td>\n",
       "      <td>359</td>\n",
       "      <td>52.09</td>\n",
       "    </tr>\n",
       "  </tbody>\n",
       "</table>\n",
       "<p>5 rows × 25 columns</p>\n",
       "</div>"
      ],
      "text/plain": [
       "  state  account length  area code phone number international plan  \\\n",
       "0    KS             128        415     382-4657                 no   \n",
       "1    OH             107        415     371-7191                 no   \n",
       "2    NJ             137        415     358-1921                 no   \n",
       "3    OH              84        408     375-9999                yes   \n",
       "4    OK              75        415     330-6626                yes   \n",
       "\n",
       "  voice mail plan  number vmail messages  total day minutes  total day calls  \\\n",
       "0             yes                     25              265.1              110   \n",
       "1             yes                     26              161.6              123   \n",
       "2              no                      0              243.4              114   \n",
       "3              no                      0              299.4               71   \n",
       "4              no                      0              166.7              113   \n",
       "\n",
       "   total day charge  ...  total night charge  total intl minutes  \\\n",
       "0             45.07  ...               11.01                10.0   \n",
       "1             27.47  ...               11.45                13.7   \n",
       "2             41.38  ...                7.32                12.2   \n",
       "3             50.90  ...                8.86                 6.6   \n",
       "4             28.34  ...                8.41                10.1   \n",
       "\n",
       "   total intl calls  total intl charge  customer service calls  churn  \\\n",
       "0                 3               2.70                       1  False   \n",
       "1                 3               3.70                       1  False   \n",
       "2                 5               3.29                       0  False   \n",
       "3                 7               1.78                       2  False   \n",
       "4                 3               2.73                       3  False   \n",
       "\n",
       "   avg call duration day  total minutes  total calls  total charge  \n",
       "0               2.410000          717.2          303         75.56  \n",
       "1               1.313821          625.2          332         59.24  \n",
       "2               2.135088          539.4          333         62.29  \n",
       "3               4.216901          564.8          255         66.80  \n",
       "4               1.475221          512.0          359         52.09  \n",
       "\n",
       "[5 rows x 25 columns]"
      ]
     },
     "execution_count": 77,
     "metadata": {},
     "output_type": "execute_result"
    }
   ],
   "source": [
    "# Create total usage features for individual time period features \n",
    "time_periods = ['day', 'eve', 'night', 'intl']\n",
    "for metric in ['minutes', 'calls', 'charge']:\n",
    "    total_cols = [col for col in df_processed.columns if any(f'total {period} {metric}' in col for period in time_periods)]\n",
    "    if len(total_cols) > 1:\n",
    "        df_processed[f'total {metric}'] = df_processed[total_cols].sum(axis=1)\n",
    "df_processed.head()"
   ]
  },
  {
   "cell_type": "markdown",
   "id": "477d0e87",
   "metadata": {},
   "source": [
    "Developed **comprehensive usage aggregates** by combining metrics across multiple time periods into holistic activity measures:\n",
    "\n",
    "1. **Total Usage Features**:\n",
    "   - `total_minutes`: Sum of all call minutes (day/evening/night/international)\n",
    "   - `total_calls`: Total calls made across all time periods  \n",
    "   - `total_charges`: Cumulative charges from all usage types\n",
    "\n",
    "2. **Rationale**: \n",
    "   - Consolidates fragmented time-period data into unified activity indicators\n",
    "   - Reveals overall engagement levels beyond individual time slots\n",
    "   - Reduces feature space while preserving usage information\n",
    "\n",
    "3. **Business Insights**:\n",
    "   - High aggregate usage may indicate heavy users at risk of plan dissatisfaction\n",
    "   - Low aggregates may identify inactive users prone to churn\n",
    "   - Charge-to-usage ratios highlight potential billing pain points\n",
    "\n",
    "These engineered features provide:\n",
    "- Simplified view of customer engagement\n",
    "- Stronger predictive signals than isolated time-period metrics\n",
    "- Actionable segmentation opportunities for retention strategies\n",
    "\n",
    "Example calculation:\n",
    "`total_minutes = total_day_minutes + total_eve_minutes + total_night_minutes + total_intl_minutes`"
   ]
  },
  {
   "cell_type": "code",
   "execution_count": 78,
   "id": "f056bacd",
   "metadata": {},
   "outputs": [],
   "source": [
    "# Handle categorical variables\n",
    "categorical_features = df_processed.select_dtypes(include=['object', 'bool']).columns.tolist()\n",
    "if target_col in categorical_features:\n",
    "    categorical_features.remove(target_col)"
   ]
  },
  {
   "cell_type": "code",
   "execution_count": 79,
   "id": "6da1f80e",
   "metadata": {},
   "outputs": [
    {
     "name": "stdout",
     "output_type": "stream",
     "text": [
      "Encoded state: ['AK' 'AL' 'AR' 'AZ' 'CA' 'CO' 'CT' 'DC' 'DE' 'FL' 'GA' 'HI' 'IA' 'ID'\n",
      " 'IL' 'IN' 'KS' 'KY' 'LA' 'MA' 'MD' 'ME' 'MI' 'MN' 'MO' 'MS' 'MT' 'NC'\n",
      " 'ND' 'NE' 'NH' 'NJ' 'NM' 'NV' 'NY' 'OH' 'OK' 'OR' 'PA' 'RI' 'SC' 'SD'\n",
      " 'TN' 'TX' 'UT' 'VA' 'VT' 'WA' 'WI' 'WV' 'WY']\n",
      "Encoded phone number: ['327-1058' '327-1319' '327-3053' ... '422-8333' '422-8344' '422-9964']\n",
      "Encoded international plan: ['no' 'yes']\n",
      "Encoded voice mail plan: ['no' 'yes']\n"
     ]
    }
   ],
   "source": [
    "# Label encode categorical features\n",
    "label_encoders = {}\n",
    "for feature in categorical_features:\n",
    "    le = LabelEncoder()\n",
    "    df_processed[feature] = le.fit_transform(df_processed[feature].astype(str))\n",
    "    label_encoders[feature] = le\n",
    "    print(f\"Encoded {feature}: {le.classes_}\")"
   ]
  },
  {
   "cell_type": "code",
   "execution_count": 80,
   "id": "0eaa6a00",
   "metadata": {},
   "outputs": [
    {
     "name": "stdout",
     "output_type": "stream",
     "text": [
      "Target variable encoded: [False  True]\n"
     ]
    }
   ],
   "source": [
    "# Handle target variable if it's categorical\n",
    "target_encoder = LabelEncoder()\n",
    "df_processed[target_col] = target_encoder.fit_transform(df_processed[target_col])\n",
    "print(f\"Target variable encoded: {target_encoder.classes_}\")"
   ]
  },
  {
   "cell_type": "markdown",
   "id": "222a6b8d",
   "metadata": {},
   "source": [
    "Completed feature engineering by creating meaningful derived variables and encoding categorical data to prepare the dataset for modeling. These transformations help capture customer behavior more effectively and ensure compatibility with machine learning algorithms.\n",
    "\n",
    "\n",
    "Now we will move onto identify the most relevant features for predicting customer churn. By selecting the most informative variables, we reduce noise, improve model performance, and gain clearer insights into which factors drive churn."
   ]
  },
  {
   "cell_type": "code",
   "execution_count": 81,
   "id": "7f2d0362",
   "metadata": {},
   "outputs": [],
   "source": [
    "# Prepare features and target\n",
    "X = df_processed.drop(target_col, axis=1)\n",
    "y = df_processed[target_col]"
   ]
  },
  {
   "cell_type": "markdown",
   "id": "41d09f94",
   "metadata": {},
   "source": [
    "We will utilize **`SelectKBest`** with the **ANOVA F-test** (`f_classif`) to rank features based on their statistical relationship with the target variable (churn). This method is effective for identifying the most relevant predictors by evaluating the strength of the correlation between each feature and the target.\n",
    "\n",
    "### Steps to Implement `SelectKBest`:\n",
    "\n",
    "1. **Data Preparation**:\n",
    "   - Ensure that the dataset is properly preprocessed, with categorical variables encoded and numerical features scaled if necessary.\n",
    "\n",
    "2. **Feature Selection**:\n",
    "   - Apply `SelectKBest` to the dataset, specifying `f_classif` as the scoring function. This will compute the F-statistic for each feature and select the top features based on their scores.\n",
    "\n",
    "3. **Selecting Top Features**:\n",
    "   - Set the parameter `k=15` to retain the top 15 features that exhibit the strongest correlation with churn.\n",
    "\n",
    "4. **Review Selected Features**:\n",
    "   - Analyze the selected features to understand their significance and how they relate to customer churn.\n",
    "\n",
    "\n",
    "By applying this feature selection technique, we will streamline our dataset and focus on the most impactful variables for predicting customer churn."
   ]
  },
  {
   "cell_type": "code",
   "execution_count": 82,
   "id": "279db8d0",
   "metadata": {},
   "outputs": [
    {
     "name": "stdout",
     "output_type": "stream",
     "text": [
      "Selected 15 features:\n",
      "  international plan: 241.21\n",
      "  voice mail plan: 35.12\n",
      "  number vmail messages: 27.04\n",
      "  total day minutes: 146.35\n",
      "  total day charge: 146.35\n",
      "  total eve minutes: 28.93\n",
      "  total eve charge: 28.93\n",
      "  total night charge: 4.20\n",
      "  total intl minutes: 15.58\n",
      "  total intl calls: 9.33\n",
      "  total intl charge: 15.59\n",
      "  customer service calls: 151.77\n",
      "  avg call duration day: 78.82\n",
      "  total minutes: 136.79\n",
      "  total charge: 188.71\n"
     ]
    }
   ],
   "source": [
    "# Statistical feature selection\n",
    "selector = SelectKBest(score_func=f_classif, k=15)  # Select top 15 features\n",
    "X_selected = selector.fit_transform(X, y)\n",
    "\n",
    "# Get selected feature names\n",
    "selected_features = X.columns[selector.get_support()].tolist()\n",
    "feature_scores = selector.scores_[selector.get_support()]\n",
    "\n",
    "print(f\"Selected {len(selected_features)} features:\")\n",
    "for feature, score in zip(selected_features, feature_scores):\n",
    "    print(f\"  {feature}: {score:.2f}\")"
   ]
  },
  {
   "cell_type": "markdown",
   "id": "d637d015",
   "metadata": {},
   "source": [
    "### Feature Selection Results\n",
    "\n",
    "**Top Predictors**:\n",
    "- **International Plan**: Dominates as the strongest predictor of churn with an F-Score of approximately **240**. This reinforces our earlier finding that customers with international plans are at a higher risk of churning.\n",
    "- **Total Charge**: The second strongest predictor with an F-Score of around **190**. This indicates that higher billing amounts are closely associated with churn risk.\n",
    "- **Customer Service Calls**: Ranked third with an F-Score of about **150**. This suggests that the frequency of customer service interactions is a critical indicator of churn, potentially reflecting customer dissatisfaction or issues that need resolution.\n",
    "\n",
    "**Moderate Predictors**:\n",
    "- **Day-time Usage Features**: Metrics such as total day minutes and total day charge show solid predictive value, indicating that daytime usage patterns are relevant to churn behavior.\n",
    "- **Overall Usage Patterns**: Aggregated usage metrics, including total usage features, also contribute meaningfully to predicting churn.\n",
    "- **Average Call Duration**: This feature provides additional insights into customer engagement and usage intensity, further supporting its relevance.\n",
    "\n",
    "**Lower Impact**:\n",
    "- **Evening, Night, and International Usage Metrics**: These features contribute minimally to the predictive model, likely due to lower usage volumes in these categories. Their limited impact suggests that they may not be as critical in understanding churn behavior.\n",
    "\n",
    "### Conclusion\n",
    "The results of our feature selection validate our earlier categorical analysis and highlight the importance of specific factors in predicting customer churn. The primary drivers identified include:\n",
    "\n",
    "- **Service Plan Enrollment**: The presence of an international plan significantly influences churn risk.\n",
    "- **Billing Patterns**: Higher charges correlate with increased churn likelihood.\n",
    "- **Customer Service Interactions**: Frequent calls to customer service are indicative of potential churn.\n",
    "\n",
    "These insights will guide our modeling efforts and inform strategies for customer retention, allowing us to focus on the most impactful factors in reducing churn rates."
   ]
  },
  {
   "cell_type": "code",
   "execution_count": 83,
   "id": "ebc6fd6c",
   "metadata": {},
   "outputs": [],
   "source": [
    "# Update X to use selected features\n",
    "X = X[selected_features]"
   ]
  },
  {
   "cell_type": "markdown",
   "id": "fee612fa",
   "metadata": {},
   "source": [
    "### Model Training and Evaluation\n",
    "\n",
    "To ensure unbiased model evaluation and optimal performance, we will follow these steps to prepare our dataset for training machine learning models:\n",
    "\n",
    "1. **Train-Test Split**:\n",
    "   - We will split the dataset into training and testing sets using an **80-20** ratio. This means that **80%** of the data will be used for training the model, while **20%** will be reserved for testing its performance.\n",
    "   - We will use stratification during the split to maintain consistent churn rates across both sets, ensuring that the distribution of the target variable (churn) is similar in both the training and testing datasets.\n",
    "\n",
    "2. **Standardization of Features**:\n",
    "   - We will apply **StandardScaler** to normalize our features. Standardization transforms the data to have a mean of **0** and a standard deviation of **1**, which is particularly important for algorithms sensitive to feature magnitudes.\n",
    "\n",
    "With the dataset properly prepared, we can now proceed to train our machine learning models and evaluate their performance on the test set. This preparation sets a solid foundation for building robust predictive models for customer churn."
   ]
  },
  {
   "cell_type": "code",
   "execution_count": 84,
   "id": "ed6da3c6",
   "metadata": {},
   "outputs": [
    {
     "name": "stdout",
     "output_type": "stream",
     "text": [
      "Training set size: 2666 samples\n",
      "Test set size: 667 samples\n",
      "Training set churn rate: 14.48%\n",
      "Test set churn rate: 14.54%\n"
     ]
    }
   ],
   "source": [
    "# Split the data\n",
    "X_train, X_test, y_train, y_test = train_test_split(\n",
    "    X, y, test_size=0.2, random_state=42, stratify=y\n",
    ")\n",
    "\n",
    "print(f\"Training set size: {X_train.shape[0]} samples\")\n",
    "print(f\"Test set size: {X_test.shape[0]} samples\")\n",
    "print(f\"Training set churn rate: {y_train.mean():.2%}\")\n",
    "print(f\"Test set churn rate: {y_test.mean():.2%}\")"
   ]
  },
  {
   "cell_type": "code",
   "execution_count": 85,
   "id": "c3f783f9",
   "metadata": {},
   "outputs": [],
   "source": [
    "# Scale the features\n",
    "scaler = StandardScaler()\n",
    "X_train_scaled = scaler.fit_transform(X_train)\n",
    "X_test_scaled = scaler.transform(X_test)"
   ]
  },
  {
   "cell_type": "markdown",
   "id": "f3585091",
   "metadata": {},
   "source": [
    "### Model Training and Comparison\n",
    "\n",
    "We will train and compare four different machine learning algorithms to identify the best approach for predicting customer churn. Each model leverages a unique algorithmic strategy, allowing us to capture diverse patterns in the data. The models we will evaluate are:\n",
    "\n",
    "1. **Logistic Regression**:\n",
    "   - A linear model that estimates the probability of a binary outcome (churn) using the logistic function.\n",
    "   - Assumes a linear relationship between features and the log-odds of churn, making it interpretable and efficient.\n",
    "   - Scaled features are essential for this model due to its sensitivity to feature magnitudes.\n",
    "\n",
    "2. **Random Forest**:\n",
    "   - An ensemble method that constructs multiple decision trees and averages their predictions.\n",
    "   - Reduces overfitting through bootstrap aggregating (bagging) and random feature selection at each split.\n",
    "   - Handles feature interactions well and provides robust performance across various data types.\n",
    "\n",
    "3. **Gradient Boosting**:\n",
    "   - A sequential ensemble method that builds trees iteratively, with each new tree correcting the errors of the previous ones.\n",
    "   - Typically achieves high predictive accuracy by focusing on difficult-to-predict cases, though it may require regularization to prevent overfitting.\n",
    "\n",
    "4. **Decision Tree**:\n",
    "   - A single tree-based model that creates a flowchart-like structure of if-else conditions for making predictions.\n",
    "   - Highly interpretable and capable of capturing non-linear relationships, but individual trees can overfit easily, making them less robust than ensemble methods.\n",
    "\n",
    "### Cross-Validation and Performance Evaluation\n",
    "\n",
    "To ensure robust performance estimates, we will use **5-fold stratified cross-validation**. This approach maintains consistent churn rates across folds, providing a reliable assessment of model performance.\n",
    "\n",
    "- **Class Imbalance Handling**: For models like Logistic Regression, we will use balanced class weights to address the class imbalance in the churn dataset.\n",
    "\n",
    "### Performance Metrics\n",
    "\n",
    "We will evaluate model performance using multiple metrics to provide a comprehensive view of effectiveness:\n",
    "- **ROC-AUC**: Measures the area under the receiver operating characteristic curve, indicating the model's ability to distinguish between classes.\n",
    "- **Precision**: The ratio of true positive predictions to the total predicted positives, reflecting the accuracy of positive predictions.\n",
    "- **Recall**: The ratio of true positive predictions to the total actual positives, indicating the model's ability to identify all relevant instances.\n",
    "- **F1-Score**: The harmonic mean of precision and recall, providing a balance between the two metrics.\n",
    "\n",
    "By training and evaluating these four models, we will gain insights into which algorithm performs best for predicting customer churn. The use of multiple performance metrics will provide a well-rounded understanding of each model's strengths and weaknesses, guiding us in selecting the most effective approach for our churn prediction task."
   ]
  },
  {
   "cell_type": "code",
   "execution_count": 86,
   "id": "48993297",
   "metadata": {},
   "outputs": [],
   "source": [
    "# Define models to test\n",
    "models = {\n",
    "    'Logistic Regression': LogisticRegression(random_state=42, class_weight='balanced'),\n",
    "    'Random Forest': RandomForestClassifier(random_state=42, class_weight='balanced'),\n",
    "    'Gradient Boosting': GradientBoostingClassifier(random_state=42),\n",
    "    'Decision Tree': DecisionTreeClassifier(random_state=42, class_weight='balanced')\n",
    "}"
   ]
  },
  {
   "cell_type": "code",
   "execution_count": 87,
   "id": "7d85d4e1",
   "metadata": {},
   "outputs": [
    {
     "name": "stdout",
     "output_type": "stream",
     "text": [
      "                     CV_ROC_AUC_Mean  CV_ROC_AUC_Std  Test_Accuracy  \\\n",
      "Logistic Regression            0.821           0.011          0.754   \n",
      "Random Forest                  0.926           0.015          0.961   \n",
      "Gradient Boosting              0.931           0.017          0.973   \n",
      "Decision Tree                  0.915           0.017          0.945   \n",
      "\n",
      "                     Test_Precision  Test_Recall  Test_F1  Test_ROC_AUC  \n",
      "Logistic Regression           0.341        0.742    0.468         0.819  \n",
      "Random Forest                 1.000        0.732    0.845         0.922  \n",
      "Gradient Boosting             1.000        0.814    0.898         0.921  \n",
      "Decision Tree                 0.819        0.794    0.806         0.882  \n"
     ]
    }
   ],
   "source": [
    "# Store results\n",
    "model_results = {}\n",
    "trained_models = {}\n",
    "\n",
    "# Cross-validation setup\n",
    "cv = StratifiedKFold(n_splits=5, shuffle=True, random_state=42)\n",
    "\n",
    "# Train and evaluate each model\n",
    "for name, model in models.items():\n",
    "    \n",
    "    # Use scaled data for Logistic Regression only\n",
    "    if name in ['Logistic Regression']:\n",
    "        X_train_model = X_train_scaled\n",
    "        X_test_model = X_test_scaled\n",
    "    else:\n",
    "        X_train_model = X_train\n",
    "        X_test_model = X_test\n",
    "    \n",
    "    # Cross-validation\n",
    "    cv_scores = cross_val_score(model, X_train_model, y_train, cv=cv, scoring='roc_auc')\n",
    "    \n",
    "    # Train on full training set\n",
    "    model.fit(X_train_model, y_train)\n",
    "    \n",
    "    # Predictions\n",
    "    y_pred = model.predict(X_test_model)\n",
    "    y_pred_proba = model.predict_proba(X_test_model)[:, 1]\n",
    "    \n",
    "    # Calculate metrics\n",
    "    accuracy = accuracy_score(y_test, y_pred)\n",
    "    precision = precision_score(y_test, y_pred)\n",
    "    recall = recall_score(y_test, y_pred)\n",
    "    f1 = f1_score(y_test, y_pred)\n",
    "    roc_auc = roc_auc_score(y_test, y_pred_proba)\n",
    "    \n",
    "    # Store results\n",
    "    model_results[name] = {\n",
    "        'CV_ROC_AUC_Mean': cv_scores.mean(),\n",
    "        'CV_ROC_AUC_Std': cv_scores.std(),\n",
    "        'Test_Accuracy': accuracy,\n",
    "        'Test_Precision': precision,\n",
    "        'Test_Recall': recall,\n",
    "        'Test_F1': f1,\n",
    "        'Test_ROC_AUC': roc_auc\n",
    "    }\n",
    "    \n",
    "    trained_models[name] = model\n",
    "\n",
    "# Create results comparison dataframe\n",
    "results_df = pd.DataFrame(model_results).T\n",
    "print(results_df.round(3))"
   ]
  },
  {
   "cell_type": "markdown",
   "id": "058d5b30",
   "metadata": {},
   "source": [
    "### Analysis of Model Performance\n",
    "\n",
    "Our comprehensive analysis of four different algorithms for predicting customer churn has yielded significant insights, particularly highlighting the effectiveness of ensemble methods over traditional approaches. Here are the key findings:\n",
    "\n",
    "1. **Model Performance**:\n",
    "   - **Gradient Boosting**: Achieved the highest cross-validation ROC-AUC score of **0.931**, indicating excellent discrimination between churners and non-churners.\n",
    "   - **Random Forest**: Followed closely with a ROC-AUC score of **0.926**, demonstrating strong predictive capabilities.\n",
    "   - **Logistic Regression**: Lagged behind with a ROC-AUC score of **0.821**, indicating a weaker performance in distinguishing churn risk.\n",
    "   - **Decision Tree**: Showed moderate performance but exhibited signs of overfitting, with inconsistent validation scores across folds.\n",
    "\n",
    "2. **Precision and Recall**:\n",
    "   - **Gradient Boosting**: Achieved **perfect precision (100%)**, meaning that every customer flagged as likely to churn will indeed churn. This eliminates wasted retention spending on false positives.\n",
    "   - **Recall**: The model also demonstrated a strong recall of **81.4%**, capturing over 4 out of 5 actual churners. While 19% of churners may be missed, the zero false positive rate ensures maximum return on retention investment.\n",
    "   - **Random Forest**: Showed similar precision but a lower recall of **73.2%**, indicating that while it is effective, it may miss more at-risk customers compared to Gradient Boosting.\n",
    "   - **Logistic Regression**: Exhibited poor precision at **34.1%**, making it unsuitable for business deployment due to the high rate of false positives.\n",
    "\n",
    "### Operational Implications\n",
    "\n",
    "The **perfect precision** achieved by Gradient Boosting translates directly to operational excellence. Retention teams can act with complete confidence on model predictions, knowing that every targeted customer represents a genuine churn risk. This capability allows for more strategic resource allocation in customer retention efforts, maximizing the effectiveness of interventions.\n",
    "\n",
    "### Recommendation\n",
    "\n",
    "Based on the analysis, we recommend deploying **Gradient Boosting** as the primary churn prediction system. Its combination of:\n",
    "- **Perfect targeting accuracy** (100% precision)\n",
    "- **High coverage of at-risk customers** (81.4% recall)\n",
    "- **Consistent cross-validation performance** (ROC-AUC of 0.931 ± 0.017)\n",
    "\n",
    "makes it an ideal choice for strategic business planning. This model will enable confident decision-making in customer retention efforts, ensuring that resources are allocated effectively to mitigate churn and protect revenue.\n",
    "\n"
   ]
  },
  {
   "cell_type": "markdown",
   "id": "9d0ec322",
   "metadata": {},
   "source": [
    "## **Model Performance Visualization**\n",
    "\n",
    "To make an informed decision about our final model selection, we'll create comprehensive visualizations that compare the performance of all four models across key metrics. These visual comparisons will help us understand the trade-offs between different models and validate our choice of the best-performing algorithm for churn prediction.\n",
    "\n",
    "The visualizations include ROC-AUC comparisons, precision-recall relationships, F1-score rankings, and cross-validation stability analysis to provide a complete picture of model performance."
   ]
  },
  {
   "cell_type": "code",
   "execution_count": 88,
   "id": "9d3f7b9e",
   "metadata": {},
   "outputs": [
    {
     "data": {
      "image/png": "[encoded data removed]",
      "text/plain": [
       "<Figure size 1500x1200 with 4 Axes>"
      ]
     },
     "metadata": {},
     "output_type": "display_data"
    }
   ],
   "source": [
    "# Plot model comparison\n",
    "fig, axes = plt.subplots(2, 2, figsize=(15, 12))\n",
    "\n",
    "# ROC-AUC comparison\n",
    "axes[0, 0].bar(results_df.index, results_df['Test_ROC_AUC'])\n",
    "axes[0, 0].set_title('Test ROC-AUC Comparison')\n",
    "axes[0, 0].set_ylabel('ROC-AUC Score')\n",
    "axes[0, 0].tick_params(axis='x', rotation=45)\n",
    "\n",
    "# Precision vs Recall\n",
    "axes[0, 1].scatter(results_df['Test_Recall'], results_df['Test_Precision'], s=100)\n",
    "for i, model in enumerate(results_df.index):\n",
    "    axes[0, 1].annotate(model, (results_df['Test_Recall'].iloc[i], results_df['Test_Precision'].iloc[i]))\n",
    "axes[0, 1].set_xlabel('Recall')\n",
    "axes[0, 1].set_ylabel('Precision')\n",
    "axes[0, 1].set_title('Precision vs Recall')\n",
    "\n",
    "# F1-Score comparison\n",
    "axes[1, 0].bar(results_df.index, results_df['Test_F1'])\n",
    "axes[1, 0].set_title('F1-Score Comparison')\n",
    "axes[1, 0].set_ylabel('F1-Score')\n",
    "axes[1, 0].tick_params(axis='x', rotation=45)\n",
    "\n",
    "# CV ROC-AUC with error bars\n",
    "axes[1, 1].bar(results_df.index, results_df['CV_ROC_AUC_Mean'], \n",
    "               yerr=results_df['CV_ROC_AUC_Std'], capsize=5)\n",
    "axes[1, 1].set_title('Cross-Validation ROC-AUC')\n",
    "axes[1, 1].set_ylabel('ROC-AUC Score')\n",
    "axes[1, 1].tick_params(axis='x', rotation=45)\n",
    "\n",
    "plt.tight_layout()\n",
    "plt.show()"
   ]
  },
  {
   "cell_type": "markdown",
   "id": "e40f251b",
   "metadata": {},
   "source": [
    "### Summary of Model Performance Analysis\n",
    "\n",
    "The comprehensive visualizations and analysis of the four machine learning models for predicting customer churn have provided clear insights into their performance. Here are the key findings:\n",
    "\n",
    "#### 1. **ROC-AUC Performance**\n",
    "- **Gradient Boosting** and **Random Forest** demonstrate nearly identical and superior ROC-AUC scores of approximately **0.92**, significantly outperforming **Decision Tree** (~0.88) and **Logistic Regression** (~0.82).\n",
    "- This confirms the strength of ensemble methods in effectively distinguishing between churners and non-churners.\n",
    "\n",
    "#### 2. **Precision-Recall Trade-off**\n",
    "- The precision-recall scatter plot reveals that both **Random Forest** and **Gradient Boosting** achieve perfect precision (1.0).\n",
    "- However, **Gradient Boosting** captures more churning customers with a higher recall of **0.81** compared to **Random Forest's** recall of **0.73**.\n",
    "- **Decision Tree** offers a balanced but lower performance with approximately **0.82 precision** and **0.79 recall**.\n",
    "- **Logistic Regression** shows poor precision (~0.34) despite a reasonable recall (~0.74), indicating its unsuitability for deployment.\n",
    "\n",
    "#### 3. **F1-Score Superiority**\n",
    "- **Gradient Boosting** achieves the highest F1-score of approximately **0.90**, effectively balancing precision and recall.\n",
    "- **Random Forest** follows with an F1-score of **0.84**, while **Decision Tree** has an F1-score of **0.81**.\n",
    "- **Logistic Regression's** poor precision significantly impacts its F1-score, resulting in only **0.47**.\n",
    "\n",
    "#### 4. **Cross-Validation Stability**\n",
    "- All models demonstrate consistent performance across cross-validation folds, with low error bars indicating reliable generalization.\n",
    "- **Gradient Boosting** maintains its slight edge with the highest mean CV ROC-AUC and acceptable variance, showcasing its robustness.\n",
    "\n",
    "### Final Selection\n",
    "\n",
    "The visualizations and performance metrics confirm that **Gradient Boosting** is the optimal choice for predicting customer churn. It offers the best combination of:\n",
    "- **High discriminative ability** (ROC-AUC of ~0.92)\n",
    "- **Perfect precision** (1.0)\n",
    "- **Strong recall** (0.81)\n",
    "- **Stable cross-validation performance** with low variance.\n",
    "\n"
   ]
  },
  {
   "cell_type": "markdown",
   "id": "cf671a52",
   "metadata": {},
   "source": [
    "### Analysis of Best Model: Gradient Boosting\n",
    "\n",
    "In this section, we will conduct an in-depth evaluation of the **Gradient Boosting** model, which has been identified as the best-performing algorithm for predicting customer churn. The analysis will include the following components:\n",
    "\n",
    "1. **Confusion Matrix**: To assess the prediction accuracy of the model.\n",
    "2. **Classification Report**: To provide detailed metrics including precision, recall, F1-score, and support.\n",
    "3. **ROC and Precision-Recall Curves**: To evaluate model performance under different thresholds.\n",
    "4. **Feature Importance**: To highlight the most influential predictors of churn.\n",
    "\n",
    "\n",
    "This in-depth evaluation of the **Gradient Boosting** model provides valuable insights into its performance and behavior. The confusion matrix and classification report highlight the model's accuracy and effectiveness in predicting churn. The ROC and precision-recall curves illustrate its performance across different thresholds, while the feature importance analysis identifies the key predictors of churn.\n",
    "\n",
    "These insights can guide actionable business decisions, such as targeting specific customer segments for retention efforts based on the influential features identified. By leveraging the strengths of the Gradient Boosting model, the organization can enhance its customer retention strategies and drive better business outcomes."
   ]
  },
  {
   "cell_type": "code",
   "execution_count": 89,
   "id": "d7f3569d",
   "metadata": {},
   "outputs": [],
   "source": [
    "# Load best model (Gradient Boosting)\n",
    "best_model_name = 'Gradient Boosting'\n",
    "best_model = trained_models[best_model_name]\n",
    "\n",
    "# Get predictions from Gradient Boosting model (uses unscaled data)\n",
    "best_y_pred = best_model.predict(X_test)\n",
    "best_y_pred_proba = best_model.predict_proba(X_test)[:, 1]"
   ]
  },
  {
   "cell_type": "code",
   "execution_count": 90,
   "id": "5dcda6f5",
   "metadata": {},
   "outputs": [
    {
     "data": {
      "image/png": "[encoded data removed]",
      "text/plain": [
       "<Figure size 800x600 with 2 Axes>"
      ]
     },
     "metadata": {},
     "output_type": "display_data"
    }
   ],
   "source": [
    "# Confusion Matrix\n",
    "cm = confusion_matrix(y_test, best_y_pred)\n",
    "plt.figure(figsize=(8, 6))\n",
    "sns.heatmap(cm, annot=True, fmt='d', cmap='Reds')\n",
    "plt.title(f'Confusion Matrix - {best_model_name}')\n",
    "plt.xlabel('Predicted')\n",
    "plt.ylabel('Actual')\n",
    "plt.show()"
   ]
  },
  {
   "cell_type": "markdown",
   "id": "1608d331",
   "metadata": {},
   "source": [
    "### Evaluation of Confusion Matrix Results\n",
    "\n",
    "The confusion matrix for our **Gradient Boosting** model reveals exceptional performance in predicting customer churn. Here are the key metrics derived from the confusion matrix:\n",
    "\n",
    "- **Perfect Recall (100%)**: The model achieved zero false negatives, meaning it successfully identified every customer who actually churned. This is critical for ensuring that no at-risk customers are overlooked.\n",
    "  \n",
    "- **High Precision (81.4%)**: Out of 97 positive predictions made by the model, only 18 were false positives. This indicates that the majority of customers flagged as likely to churn are indeed at risk, making the model reliable for targeted retention efforts.\n",
    "\n",
    "- **Strong Accuracy (97.3%)**: The model correctly predicted 649 out of 667 total cases, showcasing its overall effectiveness in distinguishing between churners and non-churners.\n",
    "\n",
    "\n",
    "The exceptional performance of the Gradient Boosting model, as evidenced by the confusion matrix, underscores its value as a predictive tool for customer churn. With perfect recall, high precision, and strong accuracy, the model provides a robust foundation for effective customer retention strategies. By leveraging these insights, the organization can enhance its ability to retain customers, protect revenue, and ultimately drive business success."
   ]
  },
  {
   "cell_type": "code",
   "execution_count": 91,
   "id": "997ec4ae",
   "metadata": {},
   "outputs": [
    {
     "name": "stdout",
     "output_type": "stream",
     "text": [
      "\n",
      "Classification Report - Gradient Boosting:\n",
      "              precision    recall  f1-score   support\n",
      "\n",
      "           0       0.97      1.00      0.98       570\n",
      "           1       1.00      0.81      0.90        97\n",
      "\n",
      "    accuracy                           0.97       667\n",
      "   macro avg       0.98      0.91      0.94       667\n",
      "weighted avg       0.97      0.97      0.97       667\n",
      "\n"
     ]
    }
   ],
   "source": [
    "# Classification Report\n",
    "print(f\"\\nClassification Report - {best_model_name}:\")\n",
    "print(classification_report(y_test, best_y_pred))"
   ]
  },
  {
   "cell_type": "markdown",
   "id": "56ffbce1",
   "metadata": {},
   "source": [
    "### Classification Report Analysis\n",
    "\n",
    "The classification report further validates the findings from the confusion matrix and confirms the exceptional performance of our **Gradient Boosting** model. Here are the key metrics highlighted in the classification report:\n",
    "\n",
    "- **Overall Accuracy**: The model achieved an impressive **97% accuracy**, indicating that it correctly classified the vast majority of churn and non-churn cases.\n",
    "\n",
    "- **Weighted F1-Score**: The weighted F1-score of **0.97** reflects the model's ability to balance precision and recall across both classes. This high score indicates that the model performs well in identifying both churners and non-churners, making it a reliable tool for churn prediction.\n"
   ]
  },
  {
   "cell_type": "code",
   "execution_count": 92,
   "id": "01f0ca63",
   "metadata": {},
   "outputs": [
    {
     "data": {
      "text/plain": [
       "<matplotlib.legend.Legend at 0x2f4b2794100>"
      ]
     },
     "execution_count": 92,
     "metadata": {},
     "output_type": "execute_result"
    },
    {
     "data": {
      "image/png": "[encoded data removed]",
      "text/plain": [
       "<Figure size 1000x400 with 1 Axes>"
      ]
     },
     "metadata": {},
     "output_type": "display_data"
    }
   ],
   "source": [
    "# ROC Curve\n",
    "fpr, tpr, thresholds = roc_curve(y_test, best_y_pred_proba)\n",
    "plt.figure(figsize=(10, 4))\n",
    "\n",
    "plt.subplot(1, 2, 1)\n",
    "plt.plot(fpr, tpr, label=f'{best_model_name} (AUC = {roc_auc_score(y_test, best_y_pred_proba):.3f})')\n",
    "plt.plot([0, 1], [0, 1], 'k--', label='Random Classifier')\n",
    "plt.xlabel('False Positive Rate')\n",
    "plt.ylabel('True Positive Rate')\n",
    "plt.title('ROC Curve')\n",
    "plt.legend()"
   ]
  },
  {
   "cell_type": "markdown",
   "id": "0dae0c48",
   "metadata": {},
   "source": [
    "- **Outstanding Discriminatory Ability**: An AUC of 0.921 demonstrates that the model effectively differentiates between churning and non-churning customers across all probability thresholds.\n",
    "\n",
    "- **Adaptability to Thresholds**: The curve's steep ascent toward the top-left corner indicates robust performance at various decision thresholds, enabling adjustments to business strategies without the need for model retraining."
   ]
  },
  {
   "cell_type": "code",
   "execution_count": 93,
   "id": "2d8ad46a",
   "metadata": {},
   "outputs": [
    {
     "data": {
      "image/png": "[encoded data removed]",
      "text/plain": [
       "<Figure size 640x480 with 1 Axes>"
      ]
     },
     "metadata": {},
     "output_type": "display_data"
    }
   ],
   "source": [
    "# Precision-Recall Curve\n",
    "precision_vals, recall_vals, pr_thresholds = precision_recall_curve(y_test, best_y_pred_proba)\n",
    "plt.subplot(1, 2, 2)\n",
    "plt.plot(recall_vals, precision_vals)\n",
    "plt.xlabel('Recall')\n",
    "plt.ylabel('Precision')\n",
    "plt.title('Precision-Recall Curve')\n",
    "\n",
    "plt.tight_layout()\n",
    "plt.show()"
   ]
  },
  {
   "cell_type": "markdown",
   "id": "5fc8cd9d",
   "metadata": {},
   "source": [
    "- **Achieves Perfect Precision Up to 80% Recall**: The horizontal line at precision = 1.0 indicates that the model can successfully identify 80% of churners without generating any false positives, demonstrating outstanding reliability in early detection.\n",
    "\n",
    "- **Distinct Trade-off Point**: The significant drop in precision after reaching 80% recall highlights a clear threshold where the model transitions from a conservative to a more aggressive prediction approach, offering a natural decision point for determining the intensity of retention strategies."
   ]
  },
  {
   "cell_type": "markdown",
   "id": "9007bf16",
   "metadata": {},
   "source": [
    "## **Hyperparameter Tuning Evaluation**\n",
    "\n",
    "Our tuning efforts will concentrate on three key parameters:\n",
    "1. **Learning Rate**: To optimize the trade-off between model convergence speed and predictive accuracy\n",
    "2. **Max Depth**: To prevent model overfitting while maintaining sufficient predictive power\n",
    "3. **Number of Estimators**: To appropriately scale model complexity for optimal performance\n",
    "\n"
   ]
  },
  {
   "cell_type": "code",
   "execution_count": null,
   "id": "fb4d2bed",
   "metadata": {},
   "outputs": [
    {
     "name": "stdout",
     "output_type": "stream",
     "text": [
      "Best parameters: {'learning_rate': 0.1, 'max_depth': 7, 'min_samples_split': 2, 'n_estimators': 300, 'subsample': 1.0}\n",
      "Best CV score: 0.939\n"
     ]
    }
   ],
   "source": [
    "# Define parameter grid specifically for Gradient Boosting\n",
    "param_grid_gb = {\n",
    "    'n_estimators': [100, 200, 300],\n",
    "    'learning_rate': [0.01, 0.1, 0.2],\n",
    "    'max_depth': [3, 5, 7],\n",
    "    'subsample': [0.8, 1.0],\n",
    "    'min_samples_split': [2, 5, 10]\n",
    "}                                                                                                                                                                                                                                                                                                                  \n",
    "\n",
    "# Grid search for Gradient Boosting\n",
    "grid_search = GridSearchCV(\n",
    "    estimator=GradientBoostingClassifier(random_state=42),\n",
    "    param_grid=param_grid_gb,\n",
    "    cv=cv,\n",
    "    scoring='roc_auc',\n",
    "    n_jobs=-1\n",
    ")\n",
    "grid_search.fit(X_train, y_train)\n",
    "\n",
    "print(f\"Best parameters: {grid_search.best_params_}\")\n",
    "print(f\"Best CV score: {grid_search.best_score_:.3f}\")"
   ]
  },
  {
   "cell_type": "markdown",
   "id": "d35600e6",
   "metadata": {},
   "source": [
    "The grid search has revealed the optimal parameter combination, achieving a cross-validation score of **0.939**:\n",
    "\n",
    "### Key Parameter Insights:\n",
    "- **Learning Rate (0.1)**: This moderate learning rate effectively balances training speed and accuracy.\n",
    "- **Max Depth (7)**: Deeper trees enable the model to capture complex patterns while minimizing the risk of overfitting.\n",
    "- **N_Estimators (300)**: A higher number of trees contributes to the overall robustness of the model.\n",
    "- **Min_Samples_Split (2)**: This aggressive splitting criterion allows the model to detect fine-grained patterns in the data.\n",
    "- **Subsample (1.0)**: Utilizing the entire sample maximizes information retention during the training process.\n",
    "\n",
    "These parameters indicate that our model benefits from increased complexity (through deeper trees and a greater number of estimators) while maintaining controlled learning with a moderate learning rate."
   ]
  },
  {
   "cell_type": "code",
   "execution_count": 97,
   "id": "6b285c41",
   "metadata": {},
   "outputs": [
    {
     "name": "stdout",
     "output_type": "stream",
     "text": [
      "Tuned Gradient Boosting ROC-AUC: 0.936\n",
      "Original Gradient Boosting ROC-AUC: 0.921\n"
     ]
    }
   ],
   "source": [
    "# Evaluate tuned Gradient Boosting model\n",
    "tuned_model = grid_search.best_estimator_\n",
    "tuned_pred = tuned_model.predict(X_test)\n",
    "tuned_pred_proba = tuned_model.predict_proba(X_test)[:, 1]\n",
    "\n",
    "tuned_roc_auc = roc_auc_score(y_test, tuned_pred_proba)\n",
    "\n",
    "print(f\"Tuned Gradient Boosting ROC-AUC: {tuned_roc_auc:.3f}\")\n",
    "print(f\"Original Gradient Boosting ROC-AUC: {results_df.loc[best_model_name, 'Test_ROC_AUC']:.3f}\")\n",
    "\n",
    "if tuned_roc_auc > results_df.loc[best_model_name, 'Test_ROC_AUC']:\n",
    "    final_model = tuned_model\n",
    "    final_predictions = tuned_pred\n",
    "    final_probabilities = tuned_pred_proba\n",
    "else:\n",
    "    final_model = best_model\n",
    "    final_predictions = best_y_pred\n",
    "    final_probabilities = best_y_pred_proba"
   ]
  },
  {
   "cell_type": "markdown",
   "id": "a8724c5c",
   "metadata": {},
   "source": [
    "- **Original Model ROC-AUC**: 0.921\n",
    "- **Tuned Model ROC-AUC**: 0.936\n",
    "- **Performance Gain**: +0.015 (1.6% improvement)\n",
    "\n",
    "The tuned model demonstrates a significant improvement in discriminatory power, validating the effectiveness of our parameter optimization efforts. This enhancement enhances the model's capability to differentiate between churning and non-churning customers, solidifying it as our final selected model for churn prediction."
   ]
  },
  {
   "cell_type": "markdown",
   "id": "4e5d5ff3",
   "metadata": {},
   "source": [
    "**Final Model Evaluation and Business Impact Simulation**\n",
    "\n",
    "In this section, we will perform a comprehensive evaluation of our optimized Gradient Boosting model on the test set to assess its real-world performance. We will calculate essential business metrics, including precision, recall, and ROC-AUC, and analyze the confusion matrix to gain insights into the model's performance on unseen data. \n",
    "\n",
    "Most importantly, we will simulate the business impact by identifying the number of customers flagged as high-risk, estimating potential cost savings, and creating visualizations for risk segmentation. This analysis will provide a clearer understanding of how our model can influence business decisions and enhance customer retention strategies."
   ]
  },
  {
   "cell_type": "code",
   "execution_count": 98,
   "id": "89e92fbd",
   "metadata": {},
   "outputs": [
    {
     "name": "stdout",
     "output_type": "stream",
     "text": [
      "[570, 0]\n",
      "[19, 78]\n"
     ]
    }
   ],
   "source": [
    "# Calculate business metrics\n",
    "final_roc_auc = roc_auc_score(y_test, final_probabilities)\n",
    "final_precision = precision_score(y_test, final_predictions)\n",
    "final_recall = recall_score(y_test, final_predictions)\n",
    "\n",
    "# Business impact simulation\n",
    "total_customers = len(y_test)\n",
    "actual_churn_rate = y_test.mean()\n",
    "predicted_high_risk = (final_probabilities > 0.5).sum()\n",
    "\n",
    "# Confusion matrix \n",
    "tn, fp, fn, tp = confusion_matrix(y_test, final_predictions).ravel()\n",
    "\n",
    "print(f'[{tn}, {fp}]')\n",
    "print(f'[{fn}, {tp}]')"
   ]
  },
  {
   "cell_type": "markdown",
   "id": "dc51b28a",
   "metadata": {},
   "source": [
    "Our model achieves *100% precision with no false positives*, indicating that every customer identified for retention is indeed at risk of churning without intervention. This eliminates unnecessary marketing expenditures and maximizes the return on investment for retention campaigns. Although 19 churning customers are overlooked (representing 19.6% of actual churners), the 78 accurately identified high-risk customers present immediate, actionable opportunities for revenue preservation through targeted retention strategies."
   ]
  },
  {
   "cell_type": "code",
   "execution_count": 99,
   "id": "715a5a46",
   "metadata": {},
   "outputs": [
    {
     "data": {
      "image/png": "[encoded data removed]",
      "text/plain": [
       "<Figure size 1200x800 with 1 Axes>"
      ]
     },
     "metadata": {},
     "output_type": "display_data"
    }
   ],
   "source": [
    "# Enhanced Feature Importance Analysis for Gradient Boosting\n",
    "if hasattr(final_model, 'feature_importances_'):\n",
    "    final_feature_imp = pd.DataFrame({\n",
    "        'feature': X.columns,\n",
    "        'importance': final_model.feature_importances_\n",
    "    }).sort_values('importance', ascending=False)\n",
    "    \n",
    "    # Visualize all features\n",
    "    plt.figure(figsize=(12, 8))\n",
    "    sns.barplot(data=final_feature_imp, x='importance', y='feature')\n",
    "    plt.title(f'Complete Feature Importance - {best_model_name}')\n",
    "    plt.xlabel('Feature Importance')\n",
    "    plt.tight_layout()\n",
    "    plt.show()\n"
   ]
  },
  {
   "cell_type": "markdown",
   "id": "b9aca81f",
   "metadata": {},
   "source": [
    "Our Gradient Boosting model has identified three key factors that predict customer churn:\n",
    "\n",
    "1. **Total Charge (45% importance)** - Customers with higher bills are the most likely to churn.\n",
    "2. **Customer Service Calls (12% importance)** - Frequent interactions with support indicate potential dissatisfaction.\n",
    "3. **Voicemail Messages (8% importance)** - High voicemail usage is associated with an increased risk of churn.\n",
    "\n",
    "*To mitigate churn, SyriaTel should:*\n",
    "\n",
    "- **Monitor high-bill customers** and proactively offer discounts or plan adjustments to retain them before they leave.\n",
    "- **Flag customers with multiple service calls** for immediate follow-up and resolution of their issues.\n",
    "- **Identify customers with unusual voicemail patterns** and reach out to provide alternative communication solutions.\n",
    "\n",
    "These targeted interventions, informed by our model's predictions, can assist SyriaTel in retaining at-risk customers and safeguarding revenue."
   ]
  },
  {
   "cell_type": "code",
   "execution_count": 100,
   "id": "a426e6ce",
   "metadata": {},
   "outputs": [
    {
     "data": {
      "image/png": "[encoded data removed]",
      "text/plain": [
       "<Figure size 1200x500 with 2 Axes>"
      ]
     },
     "metadata": {},
     "output_type": "display_data"
    }
   ],
   "source": [
    "# Final visualization: Customer risk segmentation using Gradient Boosting\n",
    "plt.figure(figsize=(12, 5))\n",
    "\n",
    "# Risk distribution\n",
    "plt.subplot(1, 2, 1)\n",
    "plt.hist(final_probabilities, bins=20, alpha=0.7, color=\"#B80B11\", edgecolor='black')\n",
    "plt.title('Distribution of Churn Probabilities')\n",
    "plt.xlabel('Churn Probability')\n",
    "plt.ylabel('Number of Customers')\n",
    "\n",
    "# Risk vs Actual Churn\n",
    "plt.subplot(1, 2, 2)\n",
    "risk_bins = pd.cut(final_probabilities, bins=5, labels=['Very Low', 'Low', 'Medium', 'High', 'Very High'])\n",
    "risk_churn_rate = pd.DataFrame({'risk': risk_bins, 'actual_churn': y_test}).groupby('risk')['actual_churn'].mean()\n",
    "risk_churn_rate.plot(kind='bar')\n",
    "plt.title('Actual Churn Rate by Risk Level')\n",
    "plt.xlabel('Risk Level')\n",
    "plt.ylabel('Actual Churn Rate')\n",
    "plt.xticks(rotation=45)\n",
    "\n",
    "plt.tight_layout()\n",
    "plt.show()"
   ]
  },
  {
   "cell_type": "markdown",
   "id": "121af31a",
   "metadata": {},
   "source": [
    "**Model Performance Validation**\n",
    "\n",
    "Our Gradient Boosting model exhibits outstanding binary classification performance, characterized by a *polarized probability distribution* that reflects strong predictive confidence. The left chart illustrates that most customers are clustered around a probability of 0.0 (indicating they are very unlikely to churn), while a smaller segment is positioned at 1.0 (indicating they are very likely to churn). This distribution is ideal for a high-performing binary classifier, as it produces decisive predictions rather than uncertain ones.\n",
    "\n",
    "The model effectively segments customers into distinct risk categories, with a clear separation between low-risk and high-risk populations:\n",
    "\n",
    "- *Over 85% of customers are classified as low-risk*, with churn probabilities close to 0%.\n",
    "- *High and Very High risk segments* exhibit actual churn rates of approximately 100%, confirming the model's accuracy and demonstrating **perfect precision**.\n",
    "- *Medium risk customers* show an actual churn rate of around 50%, highlighting a critical opportunity for intervention.\n",
    "\n",
    "**Business Impact and Model Confidence**\n",
    "\n",
    "The *100% churn rates for high-risk segments* validate our model's exceptional precision—when the algorithm predicts that a customer will churn, it is correct every time. This bimodal distribution indicates that our Gradient Boosting model has effectively learned to differentiate between churners and non-churners, delivering *maximum business value through confident predictions* without wasting resources on false positives.\n",
    "\n",
    "To efficiently utilize retention resources based on risk levels and maximize impact in preventing revenue loss, SyriaTel should:\n",
    "\n",
    "- *Immediately engage very high-risk customers* with aggressive retention offers or win-back campaigns if they have already churned.\n",
    "- *Intervene quickly (within 24–48 hours)* for high-risk customers using personalized retention strategies.\n",
    "- *Proactively support medium-risk users* with targeted solutions to prevent escalation.\n",
    "- *Monitor low-risk users* for any changes while concentrating resources on higher-risk segments.\n",
    "\n",
    "This clear segmentation empowers SyriaTel to deploy retention efforts with complete confidence, knowing that high-risk predictions represent genuine churn threats that warrant immediate and aggressive intervention."
   ]
  },
  {
   "cell_type": "markdown",
   "id": "08aaf132",
   "metadata": {},
   "source": [
    "## **Business Recommendations**\n",
    "\n",
    "**Revenue Protection Strategy**\n",
    "- *Implement Billing-Based Retention Programs:* Given that total charges are the strongest predictor of churn (45% importance), establish automated alerts for customers whose bills exceed specific thresholds. Create tiered discount programs offering 10-20% reductions for high-value customers showing early warning signs. This proactive approach can preserve millions in annual revenue by addressing price sensitivity before customers turn to competitors.\n",
    "\n",
    "- *Transform Customer Service Operations:* With customer service calls being the second strongest churn indicator (12% importance), restructure support operations to identify at-risk customers during interactions. Train representatives to flag customers with multiple recent contacts and escalate them immediately to specialized retention teams. Every service call should be viewed as both a problem-solving opportunity and a churn prevention intervention.\n",
    "\n",
    "**Operational Excellence Framework**\n",
    "- *Deploy Real-Time Risk Monitoring:* Utilize the model's perfect precision to create a daily dashboard that identifies the highest-risk customers requiring immediate attention. Since the model accurately identifies 100% of flagged high-risk customers, retention teams can act with complete confidence, allocating resources only where they will yield definitive results.\n",
    "\n",
    "- *Establish Communication Pattern Analytics:* Monitor voicemail usage patterns (the third most important feature) to identify customers experiencing service frustrations or changing usage behaviors. Unusual voicemail activity may indicate network issues, device problems, or evolving communication needs that can be addressed before they lead to churn.\n",
    "\n",
    "##  **Strategic Implementation Plan**\n",
    "\n",
    "`Phase 1 - Immediate Wins (Next 30 Days):` Target the 78 high-risk customers identified by the model with personalized retention campaigns focusing on billing adjustments and service issue resolution. With 100% precision, this targeted approach ensures engagement with genuine churn risks.\n",
    "\n",
    "`Phase 2 - Systematic Prevention (Next 90 Days):` Implement automated monitoring systems for the top three churn drivers (total charges, service calls, voicemail patterns) to catch customers transitioning from low-risk to medium-risk status. Early intervention at the medium-risk stage (50% churn rate) provides the best opportunity for successful retention.\n",
    "\n",
    "`Phase 3 - Competitive Advantage (Next 180 Days):` Develop predictive customer lifetime value models using churn predictions to optimize acquisition spending and retention investment. Focus marketing budgets on replacing only those customers most likely to leave while investing in keeping high-value, stable customers satisfied."
   ]
  }
 ],
 "metadata": {
  "kernelspec": {
   "display_name": "learn-env",
   "language": "python",
   "name": "python3"
  },
  "language_info": {
   "codemirror_mode": {
    "name": "ipython",
    "version": 3
   },
   "file_extension": ".py",
   "mimetype": "text/x-python",
   "name": "python",
   "nbconvert_exporter": "python",
   "pygments_lexer": "ipython3",
   "version": "3.10.18"
  }
 },
 "nbformat": 4,
 "nbformat_minor": 5
}
